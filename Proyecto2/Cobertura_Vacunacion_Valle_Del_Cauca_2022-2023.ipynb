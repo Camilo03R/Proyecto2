{
 "cells": [
  {
   "cell_type": "markdown",
   "id": "691f6edc",
   "metadata": {},
   "source": [
    "Carga de datos años 2022 y 2023"
   ]
  },
  {
   "cell_type": "code",
   "execution_count": null,
   "id": "c8125c4a",
   "metadata": {},
   "outputs": [
    {
     "name": "stdout",
     "output_type": "stream",
     "text": [
      "    ANO    MES  CODIGO DEPARTAMENTO     DEPARTAMENTO  CODIGO MUNICIPIO  \\\n",
      "0  2022  ENERO                   76  VALLE DEL CAUCA             76020   \n",
      "1  2022  ENERO                   76  VALLE DEL CAUCA             76020   \n",
      "2  2022  ENERO                   76  VALLE DEL CAUCA             76020   \n",
      "3  2022  ENERO                   76  VALLE DEL CAUCA             76020   \n",
      "4  2022  ENERO                   76  VALLE DEL CAUCA             76020   \n",
      "\n",
      "  MUNICIPIO GRUPO POBLACIONAL    BIOLOGICO  META  DOSIS APLICADAS  COBERTURA  \\\n",
      "0    ALCALÁ     RECIEN NACIDO          BCG   153                0   0.000000   \n",
      "1    ALCALÁ     RECIEN NACIDO  HEPATITIS B   153                0   0.000000   \n",
      "2    ALCALÁ         DOS MESES    POLIO 1ra   153               12   7.843137   \n",
      "3    ALCALÁ      CUATRO MESES    POLIO 2da   153               14   9.150327   \n",
      "4    ALCALÁ        SEIS MESES    POLIO 3ra   153               17  11.111111   \n",
      "\n",
      "   DOSIS APLICADAS ACUMULADAS  COBERTURA ACUMULADA  \n",
      "0                           0             0.000000  \n",
      "1                           0             0.000000  \n",
      "2                          12             7.843137  \n",
      "3                          14             9.150327  \n",
      "4                          17            11.111111  \n"
     ]
    }
   ],
   "source": [
    "import pandas as pd\n",
    "\n",
    "archivo = \"Datos/Cobertura_Vacunacion_Valle_Del_Cauca_2022-2023.xlsx\"\n",
    "df = pd.read_excel(archivo, header=0)\n",
    "print(df.head())\n"
   ]
  },
  {
   "cell_type": "markdown",
   "id": "e4a961ca",
   "metadata": {},
   "source": [
    "Analisis del dataframe"
   ]
  },
  {
   "cell_type": "code",
   "execution_count": 3,
   "id": "7c177810",
   "metadata": {},
   "outputs": [
    {
     "name": "stdout",
     "output_type": "stream",
     "text": [
      "Dimensiones del DataFrame: (24960, 13)\n",
      "\n",
      "Columnas del DataFrame:\n",
      "['ANO', 'MES', 'CODIGO DEPARTAMENTO', 'DEPARTAMENTO', 'CODIGO MUNICIPIO', 'MUNICIPIO', 'GRUPO POBLACIONAL', 'BIOLOGICO', 'META', 'DOSIS APLICADAS', 'COBERTURA', 'DOSIS APLICADAS ACUMULADAS', 'COBERTURA ACUMULADA']\n"
     ]
    }
   ],
   "source": [
    "# Dimensión del dataset\n",
    "print(\"Dimensiones del DataFrame:\", df.shape)\n",
    "\n",
    "# Nombre de columnas\n",
    "print(\"\\nColumnas del DataFrame:\")\n",
    "print(df.columns.tolist())\n",
    "\n"
   ]
  },
  {
   "cell_type": "markdown",
   "id": "3861f89c",
   "metadata": {},
   "source": [
    "El conjunto de datos contiene un total de 24.960 registros distribuidos en 13 columnas, lo que indica un seguimiento de la cobertura de vacunación en el Valle del Cauca durante los años 2022 y 2023. Las columnas registran información temporal ‘AÑO’, ‘MES’, geográfica ‘CÓDIGO DEPARTAMENTO’, ‘DEPARTAMENTO’, ‘CÓDIGO MUNICIPIO’, ‘MUNICIPIO’, demográfica ‘GRUPO POBLACIONAL’, y técnica ‘BIOLÓGICO’, ‘META’, ‘DOSIS APLICADAS’, ‘COBERTURA’, ‘DOSIS APLICADAS ACUMULADAS’, ‘COBERTURA ACUMULADA’."
   ]
  },
  {
   "cell_type": "code",
   "execution_count": null,
   "id": "fd573f1f",
   "metadata": {},
   "outputs": [
    {
     "name": "stdout",
     "output_type": "stream",
     "text": [
      "\n",
      "Tipos de datos por columna:\n",
      "ANO                             int64\n",
      "MES                            object\n",
      "CODIGO DEPARTAMENTO             int64\n",
      "DEPARTAMENTO                   object\n",
      "CODIGO MUNICIPIO                int64\n",
      "MUNICIPIO                      object\n",
      "GRUPO POBLACIONAL              object\n",
      "BIOLOGICO                      object\n",
      "META                            int64\n",
      "DOSIS APLICADAS                 int64\n",
      "COBERTURA                     float64\n",
      "DOSIS APLICADAS ACUMULADAS      int64\n",
      "COBERTURA ACUMULADA           float64\n",
      "dtype: object\n",
      "\n",
      "Valores nulos por columna:\n",
      "ANO                           0\n",
      "MES                           0\n",
      "CODIGO DEPARTAMENTO           0\n",
      "DEPARTAMENTO                  0\n",
      "CODIGO MUNICIPIO              0\n",
      "MUNICIPIO                     0\n",
      "GRUPO POBLACIONAL             0\n",
      "BIOLOGICO                     0\n",
      "META                          0\n",
      "DOSIS APLICADAS               0\n",
      "COBERTURA                     0\n",
      "DOSIS APLICADAS ACUMULADAS    0\n",
      "COBERTURA ACUMULADA           0\n",
      "dtype: int64\n"
     ]
    }
   ],
   "source": [
    "# Tipos de datos\n",
    "print(\"\\nTipos de datos por columna:\")\n",
    "print(df.dtypes)\n",
    "\n",
    "# Valores nulos por columna\n",
    "print(\"\\nValores nulos por columna:\")\n",
    "print(df.isnull().sum())"
   ]
  },
  {
   "cell_type": "markdown",
   "id": "6e646468",
   "metadata": {},
   "source": [
    "No hay valores nulos en ninguna columna. \n",
    "Los tipos de datos son: variables categóricas como ‘MES’, ‘DEPARTAMENTO’, ‘MUNICIPIO’ o ‘GRUPO POBLACIONAL’ están en formato object, mientras que los valores numéricos como ‘META’, ‘DOSIS APLICADAS’ y coberturas están en formatos int64 y float64."
   ]
  },
  {
   "cell_type": "code",
   "execution_count": 7,
   "id": "953d86e0",
   "metadata": {},
   "outputs": [
    {
     "name": "stdout",
     "output_type": "stream",
     "text": [
      "Filas duplicadas: 0\n"
     ]
    }
   ],
   "source": [
    "# Número de filas duplicadas\n",
    "duplicadas = df.duplicated().sum()\n",
    "print(\"Filas duplicadas:\", duplicadas)\n"
   ]
  },
  {
   "cell_type": "markdown",
   "id": "d5025efe",
   "metadata": {},
   "source": [
    "No hay filas duplciadas"
   ]
  },
  {
   "cell_type": "markdown",
   "id": "1b888f6f",
   "metadata": {},
   "source": [
    "Analisis de consistencia de los datos"
   ]
  },
  {
   "cell_type": "code",
   "execution_count": 10,
   "id": "c30af59e",
   "metadata": {},
   "outputs": [
    {
     "name": "stdout",
     "output_type": "stream",
     "text": [
      "AÑO: [2022 2023]\n",
      "MES únicos: ['ABRIL', 'AGOSTO', 'DICIEMBRE', 'ENERO', 'FEBRERO', 'JULIO', 'JUNIO', 'MARZO', 'MAYO', 'NOVIEMBRE', 'OCTUBRE', 'SEPTIEMBRE']\n",
      "DEPARTAMENTO únicos: ['VALLE DEL CAUCA']\n",
      "BIOLOGICO únicos: ['BCG', 'DPT 2da ref', 'FIEBRE AMARILLA', 'HEPATITIS A', 'HEPATITIS B', 'NEUMOCOCO 1ra', 'NEUMOCOCO 2da', 'NEUMOCOCO ref', 'PENTA 1era ref', 'PENTA 1ra', 'PENTA 2da', 'PENTA 3ra', 'POLIO 1ra', 'POLIO 1ra ref', 'POLIO 2da', 'POLIO 2da ref', 'POLIO 3ra', 'ROTAVIRUS 1ra', 'ROTAVIRUS 2da', 'TRIPLE VIRAL', 'TRIPLE VIRAL ref 18 meses', 'TRIPLE VIRAL ref 5 anos', 'TdaP ACELULAR GESTANTES', 'VARICELA', 'VARICELA ref.', 'VPH 1ra', 'VPH 2da']\n"
     ]
    }
   ],
   "source": [
    "# AÑO: verificar años presentes\n",
    "print(\"AÑO:\", df['ANO'].unique())\n",
    "\n",
    "# MES: valores únicos y revisión rápida de posibles inconsistencias\n",
    "print(\"MES únicos:\", sorted(df['MES'].unique()))\n",
    "\n",
    "# DEPARTAMENTO: debe ser único y correcto\n",
    "print(\"DEPARTAMENTO únicos:\", df['DEPARTAMENTO'].unique())\n",
    "\n",
    "\n",
    "# BIOLÓGICO: verificar nombres de vacunas (posibles duplicados con diferencias mínimas)\n",
    "print(\"BIOLOGICO únicos:\", sorted(df['BIOLOGICO'].unique()))\n",
    "\n",
    "\n",
    "\n"
   ]
  },
  {
   "cell_type": "markdown",
   "id": "3a3528ee",
   "metadata": {},
   "source": [
    "Los datos muestran que el conjunto cubre los años 2022 y 2023, con registros para todos los meses, indicados correctamente en español en mayúsculas. El departamento está identificado como \"VALLE DEL CAUCA\", lo que confirma la coherencia geográfica del archivo. La columna BIOLÓGICO contiene 27 valores únicos."
   ]
  }
 ],
 "metadata": {
  "kernelspec": {
   "display_name": "Python 3",
   "language": "python",
   "name": "python3"
  },
  "language_info": {
   "codemirror_mode": {
    "name": "ipython",
    "version": 3
   },
   "file_extension": ".py",
   "mimetype": "text/x-python",
   "name": "python",
   "nbconvert_exporter": "python",
   "pygments_lexer": "ipython3",
   "version": "3.9.21"
  }
 },
 "nbformat": 4,
 "nbformat_minor": 5
}
