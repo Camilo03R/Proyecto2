{
 "cells": [
  {
   "cell_type": "markdown",
   "id": "94e17468",
   "metadata": {},
   "source": [
    "Lectura de datos 2018 y 2019 "
   ]
  },
  {
   "cell_type": "code",
   "execution_count": null,
   "id": "717cca18",
   "metadata": {},
   "outputs": [],
   "source": [
    "import pandas as pd\n",
    "archivo=\"Datos/Cobertura_Vacunacion_Departamental_2016-2019.xlsx\"\n",
    "\n"
   ]
  },
  {
   "cell_type": "markdown",
   "id": "6c5159bd",
   "metadata": {},
   "source": [
    "Dataframe 2018"
   ]
  },
  {
   "cell_type": "code",
   "execution_count": 11,
   "id": "9587f014",
   "metadata": {},
   "outputs": [
    {
     "name": "stdout",
     "output_type": "stream",
     "text": [
      "Index(['Unnamed: 0_level_0 Unnamed: 0_level_1', 'Unnamed: 1_level_0 Código',\n",
      "       'Unnamed: 2_level_0 DEPARTAMENTOS',\n",
      "       'Población Menor 1 año (Meta Programática)',\n",
      "       'BCG RECIEN NACIDO (HASTA 29 DÍAS) + MENOR UN AÑO (A PARTIR DE 30 DIAS HASTA 11 MESES 29 DIAS) Dosis Unica',\n",
      "       'BCG RECIEN NACIDO (HASTA 29 DÍAS) + MENOR UN AÑO (A PARTIR DE 30 DIAS HASTA 11 MESES 29 DIAS) %',\n",
      "       'HEPATITIS B RECIEN NACIDO (HASTA 29 DÍAS) RECIEN NACIDO (Primeras 12 Horas) D. Unica',\n",
      "       'HEPATITIS B RECIEN NACIDO (HASTA 29 DÍAS) RECIEN NACIDO (Primeras 12 Horas) %',\n",
      "       'HEPATITIS B RECIEN NACIDO (HASTA 29 DÍAS) RECIEN NACIDO (Despues de las Primeras 12 Horas) D. Unica',\n",
      "       'HEPATITIS B RECIEN NACIDO (HASTA 29 DÍAS) RECIEN NACIDO (Despues de las Primeras 12 Horas) %',\n",
      "       'HB RECIEN NACIDO (HASTA 29 DÍAS) (Primeras 12 Horas)+ Despues de las primeras 12 horas D. Unica',\n",
      "       'HB RECIEN NACIDO (HASTA 29 DÍAS) (Primeras 12 Horas)+ Despues de las primeras 12 horas %',\n",
      "       'ANTIPOLIO INACTIVADA (VIP) PARENTERAL\\n<  DE 1 AÑO 1ras. Dosis',\n",
      "       'ANTIPOLIO INACTIVADA (VIP) PARENTERAL\\n<  DE 1 AÑO %',\n",
      "       'VOP <DE1 AÑO + VIP <1AÑO 3as 3.Dosis',\n",
      "       'VOP <DE1 AÑO + VIP <1AÑO 3as %', 'PENTA MENOR DE UN AÑO 1ras. Dosis',\n",
      "       'PENTA MENOR DE UN AÑO %', 'PENTA MENOR DE UN AÑO 2das. Dosis',\n",
      "       'PENTA MENOR DE UN AÑO %.1', 'PENTA MENOR DE UN AÑO 3ras .Dosis',\n",
      "       'PENTA MENOR DE UN AÑO %.2',\n",
      "       'ROTAVIRUS DE 2 A 3 MESES Y 21 DIAS 1ra Dosis',\n",
      "       'ROTAVIRUS DE 2 A 3 MESES Y 21 DIAS %',\n",
      "       'ROTAVIRUS DE 4 A 11 MESES Y 29 DIAS 2da Dosis',\n",
      "       'ROTAVIRUS DE 4 A 11 MESES Y 29 DIAS %',\n",
      "       'FLU DE 6 MESES A 11 MESES  1ra Dosis', 'FLU DE 6 MESES A 11 MESES  %',\n",
      "       'FLU DE 6 MESES A 11 MESES  2da Dosis',\n",
      "       'FLU DE 6 MESES A 11 MESES  %.1',\n",
      "       'Neumo (2 a 11 Meses 29 Dias) 1ra Dosis',\n",
      "       'Neumo (2 a 11 Meses 29 Dias) %',\n",
      "       'Neumo (2 a 11 Meses 29 Dias) 2da Dosis',\n",
      "       'Neumo (2 a 11 Meses 29 Dias) %.1',\n",
      "       'Población de 1 Año (Meta Programática )',\n",
      "       'SRP (T.V.) DE UN AÑO U.Dósis', 'SRP (T.V.) DE UN AÑO %',\n",
      "       'VARICELA DE 1 AÑO\\n1a U.Dósis', 'VARICELA DE 1 AÑO\\n1a %',\n",
      "       'F.A. 1 AÑO U.Dósis', 'F.A. 1 AÑO %',\n",
      "       'Neumo de (12 meses a 23 Meses) REF.',\n",
      "       'Neumo de (12 meses a 23 Meses) %', 'Neumo de (12-23 Meses) 1ra Dosis',\n",
      "       'Neumo de (12-23 Meses) %', 'Neumo de (12-23 Meses) 2da Dosis',\n",
      "       'Neumo de (24- 35 Meses) Dosis Unica', 'HA\\n1 AÑO U. Dósis',\n",
      "       'HA\\n1 AÑO %', 'VOP Al año de la 3ra Dosis 1er. Ref.',\n",
      "       'VOP Al año de la 3ra Dosis %', 'DPT Al año de la 3ra Dosis 1er. Ref.',\n",
      "       'DPT Al año de la 3ra Dosis %', 'Población 5 años (Meta Programática)',\n",
      "       'VOP 5 AÑOS 2do. Ref.', 'VOP 5 AÑOS %', 'DPT 5 AÑOS 2do. Ref.',\n",
      "       'DPT 5 AÑOS %', 'SRP (T.V.) 5 AÑOS Ref.', 'SRP (T.V.) 5 AÑOS %',\n",
      "       'FLU de 19 a 49 años ÚNICA UNICA', 'FLU de 50 años y más UNICA',\n",
      "       'Gestantes a partir de la semana 14 UNICA',\n",
      "       'TdaP ACELULAR GESTANTES DE 10 AÑOS Y MAS   UNICA DOSIS EN CADA EMBARAZO',\n",
      "       'TdaP ACELULAR GESTANTES DE 10 AÑOS Y MAS   %',\n",
      "       'VPH Pob. VPH Niñas de 9 años', 'VPH 1a', 'VPH %', 'VPH 2a',\n",
      "       'VPH REGION'],\n",
      "      dtype='object')\n"
     ]
    }
   ],
   "source": [
    "# Leer las primeras 2 filas como encabezado\n",
    "df2018 = pd.read_excel(archivo, sheet_name='2018', header=[0, 1])\n",
    "\n",
    "# Combinar los encabezados de las dos filas en una sola cadena\n",
    "df2018.columns = [' '.join([str(i) for i in col if pd.notna(i)]).strip() for col in df2018.columns]\n",
    "\n",
    "print(df2018.columns)"
   ]
  },
  {
   "cell_type": "markdown",
   "id": "46d94592",
   "metadata": {},
   "source": [
    "El DataFrame correspondiente al año 2018 presenta una estructura amplia con múltiples columnas, en su mayoría relacionadas con esquemas de vacunación diferenciados por grupos poblacionales, momentos de aplicación y porcentajes de cobertura. Se observan campos combinados como dosis y porcentajes asociados a una misma vacuna, identificables por nombres consecutivos. Además, se incluyen variables específicas para poblaciones especiales como gestantes y niñas de 9 años (VPH), así como campos de metadatos como códigos y regiones. La organización de columnas responde a un patrón jerárquico de doble encabezado previamente fusionado."
   ]
  },
  {
   "cell_type": "markdown",
   "id": "75ae35d7",
   "metadata": {},
   "source": [
    "Dataframe 2019"
   ]
  },
  {
   "cell_type": "code",
   "execution_count": 14,
   "id": "564b5f5a",
   "metadata": {},
   "outputs": [
    {
     "name": "stdout",
     "output_type": "stream",
     "text": [
      "Index(['Unnamed: 0_level_0 Código', 'Unnamed: 1_level_0 DEPARTAMENTOS',\n",
      "       'Unnamed: 2_level_0 Población Menor 1 año (Meta Programática)',\n",
      "       'BCG RECIEN NACIDO (HASTA 29 DÍAS) + MENOR UN AÑO (A PARTIR DE 30 DIAS HASTA 11 MESES 29 DIAS) Dosis Unica',\n",
      "       'BCG RECIEN NACIDO (HASTA 29 DÍAS) + MENOR UN AÑO (A PARTIR DE 30 DIAS HASTA 11 MESES 29 DIAS) %',\n",
      "       'HEPATITIS B RECIEN NACIDO (HASTA 29 DÍAS) RECIEN NACIDO (Primeras 12 Horas) D. Unica',\n",
      "       'HEPATITIS B RECIEN NACIDO (HASTA 29 DÍAS) RECIEN NACIDO (Primeras 12 Horas) %',\n",
      "       'HEPATITIS B RECIEN NACIDO (HASTA 29 DÍAS) RECIEN NACIDO (Despues de las Primeras 12 Horas) D. Unica',\n",
      "       'HEPATITIS B RECIEN NACIDO (HASTA 29 DÍAS) RECIEN NACIDO (Despues de las Primeras 12 Horas) %',\n",
      "       'HB RECIEN NACIDO (HASTA 29 DÍAS) (Primeras 12 Horas)+ Despues de las primeras 12 horas D. Unica',\n",
      "       'HB RECIEN NACIDO (HASTA 29 DÍAS) (Primeras 12 Horas)+ Despues de las primeras 12 horas %',\n",
      "       'ANTIPOLIO INACTIVADA (VIP) PARENTERAL\\n<  DE 1 AÑO 1ras. Dosis',\n",
      "       'ANTIPOLIO INACTIVADA (VIP) PARENTERAL\\n<  DE 1 AÑO %',\n",
      "       'VOP <DE1 AÑO + VIP <1AÑO 3as 3.Dosis',\n",
      "       'VOP <DE1 AÑO + VIP <1AÑO 3as %', 'PENTA MENOR DE UN AÑO 1ras. Dosis',\n",
      "       'PENTA MENOR DE UN AÑO %', 'PENTA MENOR DE UN AÑO 2das. Dosis',\n",
      "       'PENTA MENOR DE UN AÑO %.1', 'PENTA MENOR DE UN AÑO 3ras. Dosis',\n",
      "       'PENTA MENOR DE UN AÑO %.2',\n",
      "       'ROTAVIRUS DE 2 A 3 MESES Y 21 DIAS 1ra Dosis',\n",
      "       'ROTAVIRUS DE 2 A 3 MESES Y 21 DIAS %',\n",
      "       'ROTAVIRUS DE 4 A 11 MESES Y 29 DIAS 2da Dosis',\n",
      "       'ROTAVIRUS DE 4 A 11 MESES Y 29 DIAS %',\n",
      "       'FLU DE 6 MESES A 11 MESES  1ra Dosis', 'FLU DE 6 MESES A 11 MESES  %',\n",
      "       'FLU DE 6 MESES A 11 MESES  2da Dosis',\n",
      "       'FLU DE 6 MESES A 11 MESES  %.1',\n",
      "       'Neumo (2 a 11 Meses 29 Dias) 1ra Dosis',\n",
      "       'Neumo (2 a 11 Meses 29 Dias) %',\n",
      "       'Neumo (2 a 11 Meses 29 Dias) 2da Dosis',\n",
      "       'Neumo (2 a 11 Meses 29 Dias) %.1',\n",
      "       'Población de 1 Año (Meta Programática)',\n",
      "       'SRP (T.V.) DE UN AÑO U.Dósis', 'SRP (T.V.) DE UN AÑO %',\n",
      "       'VARICELA DE 1 AÑO\\n1a U.Dósis', 'VARICELA DE 1 AÑO\\n1a %',\n",
      "       'HA\\n1 AÑO U. Dósis', 'HA\\n1 AÑO %', 'F.A. 1 AÑO U.Dósis',\n",
      "       'F.A. 1 AÑO %', 'Neumo de (12 meses a 23 Meses) REF.',\n",
      "       'Neumo de (12 meses a 23 Meses) %', 'Neumo de (12-23 Meses) 1ra Dosis',\n",
      "       'Neumo de (12-23 Meses) %', 'Neumo de (12-23 Meses) 2da Dosis',\n",
      "       'Neumo de (24- 35 Meses) Dosis Unica',\n",
      "       'VOP Al año de la 3ra Dosis 1er. Ref.', 'VOP Al año de la 3ra Dosis %',\n",
      "       'DPT Al año de la 3ra Dosis 1er. Ref.', 'DPT Al año de la 3ra Dosis %',\n",
      "       'Población 5 años Meta Programática)', 'VOP 5 AÑOS 2do. Ref.',\n",
      "       'VOP 5 AÑOS %', 'DPT 5 AÑOS 2do. Ref.', 'DPT 5 AÑOS %',\n",
      "       'SRP (T.V.) 5 AÑOS Dosis Ref.', 'SRP (T.V.) 5 AÑOS %',\n",
      "       'VARICELA DE 5 AÑOS U. Dósis', 'VARICELA DE 5 AÑOS %',\n",
      "       'FLU DE 18 A 40 AÑOS UNICA UNICA', 'FLU DE 41 A 59 AÑOS UNICA UNICA',\n",
      "       'Población > de 60 años   (DANE) 30%', 'FLU DE 60 AÑOS Y MAS UNICA',\n",
      "       'FLU DE 60 AÑOS Y MAS %',\n",
      "       'FLU Gestantes a partir de la semana 14 UNICA',\n",
      "       'FLU Gestantes a partir de la semana 14 %',\n",
      "       'TdaP ACELULAR GESTANTES DE 10 AÑOS Y MAS   U. D. C/ embarazo',\n",
      "       'TdaP ACELULAR GESTANTES DE 10 AÑOS Y MAS   %',\n",
      "       'VPH Niñas de 9 años Pob. VPH Niñas de 9 años',\n",
      "       'VPH Niñas de 9 años VPH 1a Dosis', 'VPH Niñas de 9 años % 1a Dosis',\n",
      "       'VPH Niñas de 9 años VPH 2a Dosis', 'VPH Niñas de 9 años % 2da Dosis',\n",
      "       'VPH Niñas de 9 años REGION'],\n",
      "      dtype='object')\n"
     ]
    }
   ],
   "source": [
    "# Leer las primeras 2 filas como encabezado\n",
    "df2019 = pd.read_excel(archivo, sheet_name='2019', header=[0, 1])\n",
    "\n",
    "# Combinar los encabezados de las dos filas en una sola cadena\n",
    "df2019.columns = [' '.join([str(i) for i in col if pd.notna(i)]).strip() for col in df2019.columns]\n",
    "\n",
    "print(df2019.columns)"
   ]
  },
  {
   "cell_type": "markdown",
   "id": "737815de",
   "metadata": {},
   "source": [
    "l DataFrame correspondiente al año 2019 presenta una estructura con múltiples variables relacionadas con coberturas de vacunación por grupo etario y tipo de biológico. Las columnas están formadas por la combinación de un encabezado superior indicando el biológico o población objetivo y un encabezado inferior por ejemplo: dosis, porcentaje, región. Esto permitió generar nombres de columnas combinados como \"VPH Niñas de 9 años VPH 1a Dosis\" o \"HB RECIEN NACIDO (HASTA 29 DÍAS) ... %\", facilitando el análisis posterior. "
   ]
  },
  {
   "cell_type": "markdown",
   "id": "52906e41",
   "metadata": {},
   "source": [
    "Tipos de varibles"
   ]
  },
  {
   "cell_type": "markdown",
   "id": "85ff9aab",
   "metadata": {},
   "source": [
    "Tipos de Variables dataframe 2018"
   ]
  },
  {
   "cell_type": "code",
   "execution_count": 12,
   "id": "fca52e91",
   "metadata": {},
   "outputs": [
    {
     "name": "stdout",
     "output_type": "stream",
     "text": [
      "Tipos de variables en el DataFrame 2016:\n",
      "float64    68\n",
      "object      2\n",
      "dtype: int64\n",
      "\n",
      "Detalle de cada columna:\n",
      "Unnamed: 0_level_0 Unnamed: 0_level_1                                                                        float64\n",
      "Unnamed: 1_level_0 Código                                                                                    float64\n",
      "Unnamed: 2_level_0 DEPARTAMENTOS                                                                              object\n",
      "Población Menor 1 año (Meta Programática)                                                                    float64\n",
      "BCG RECIEN NACIDO (HASTA 29 DÍAS) + MENOR UN AÑO (A PARTIR DE 30 DIAS HASTA 11 MESES 29 DIAS) Dosis Unica    float64\n",
      "                                                                                                              ...   \n",
      "VPH Pob. VPH Niñas de 9 años                                                                                 float64\n",
      "VPH 1a                                                                                                       float64\n",
      "VPH %                                                                                                        float64\n",
      "VPH 2a                                                                                                       float64\n",
      "VPH REGION                                                                                                    object\n",
      "Length: 70, dtype: object\n"
     ]
    }
   ],
   "source": [
    "# Mostrar tipos de variables\n",
    "print(\"Tipos de variables en el DataFrame 2016:\")\n",
    "print(df2018.dtypes.value_counts())\n",
    "print(\"\\nDetalle de cada columna:\")\n",
    "print(df2018.dtypes)"
   ]
  },
  {
   "cell_type": "markdown",
   "id": "5b47c39a",
   "metadata": {},
   "source": [
    "El DataFrame del año 2018 contiene 70 columnas, de las cuales 68 son de tipo float64 y 2 de tipo object. Esto indica que la mayoría de los datos son numéricos, y solo un pequeño conjunto corresponde a variables categóricas o de texto, como nombres de departamentos o regiones. "
   ]
  },
  {
   "cell_type": "markdown",
   "id": "58d20753",
   "metadata": {},
   "source": [
    "Tipos de Variables dataframe 2019"
   ]
  },
  {
   "cell_type": "code",
   "execution_count": 15,
   "id": "d1bac3c6",
   "metadata": {},
   "outputs": [
    {
     "name": "stdout",
     "output_type": "stream",
     "text": [
      "Tipos de variables en el DataFrame 2016:\n",
      "float64    74\n",
      "object      2\n",
      "dtype: int64\n",
      "\n",
      "Detalle de cada columna:\n",
      "Unnamed: 0_level_0 Código                                                                                    float64\n",
      "Unnamed: 1_level_0 DEPARTAMENTOS                                                                              object\n",
      "Unnamed: 2_level_0 Población Menor 1 año (Meta Programática)                                                 float64\n",
      "BCG RECIEN NACIDO (HASTA 29 DÍAS) + MENOR UN AÑO (A PARTIR DE 30 DIAS HASTA 11 MESES 29 DIAS) Dosis Unica    float64\n",
      "BCG RECIEN NACIDO (HASTA 29 DÍAS) + MENOR UN AÑO (A PARTIR DE 30 DIAS HASTA 11 MESES 29 DIAS) %              float64\n",
      "                                                                                                              ...   \n",
      "VPH Niñas de 9 años VPH 1a Dosis                                                                             float64\n",
      "VPH Niñas de 9 años % 1a Dosis                                                                               float64\n",
      "VPH Niñas de 9 años VPH 2a Dosis                                                                             float64\n",
      "VPH Niñas de 9 años % 2da Dosis                                                                              float64\n",
      "VPH Niñas de 9 años REGION                                                                                    object\n",
      "Length: 76, dtype: object\n"
     ]
    }
   ],
   "source": [
    "# Mostrar tipos de variables\n",
    "print(\"Tipos de variables en el DataFrame 2016:\")\n",
    "print(df2019.dtypes.value_counts())\n",
    "print(\"\\nDetalle de cada columna:\")\n",
    "print(df2019.dtypes)"
   ]
  },
  {
   "cell_type": "markdown",
   "id": "163adcd5",
   "metadata": {},
   "source": [
    "El DataFrame de 2019 contiene mayoritariamente variables de tipo float64 74 columnas, mientras que solo 2 son de tipo object, correspondientes a identificadores departamentales. La estructura refleja mediciones numéricas precisas para coberturas, dosis y porcentajes, organizadas de forma compuesta a partir de combinaciones de categorías y medidas por ejemplo,\n",
    "\n",
    "VPH Niñas de 9 años VPH 1 a Dosis  \n",
    "VPH Niñas de 9 años % 1a Dosis "
   ]
  },
  {
   "cell_type": "markdown",
   "id": "39f1ccf0",
   "metadata": {},
   "source": [
    "Analisis de estado de los Datos"
   ]
  },
  {
   "cell_type": "code",
   "execution_count": 17,
   "id": "5954ff15",
   "metadata": {},
   "outputs": [
    {
     "name": "stdout",
     "output_type": "stream",
     "text": [
      "Index(['Unnamed: 0_level_0 Código', 'Unnamed: 1_level_0 DEPARTAMENTOS',\n",
      "       'Unnamed: 2_level_0 Población Menor 1 año (Meta Programática)',\n",
      "       'BCG RECIEN NACIDO (HASTA 29 DÍAS) + MENOR UN AÑO (A PARTIR DE 30 DIAS HASTA 11 MESES 29 DIAS) Dosis Unica',\n",
      "       'BCG RECIEN NACIDO (HASTA 29 DÍAS) + MENOR UN AÑO (A PARTIR DE 30 DIAS HASTA 11 MESES 29 DIAS) %',\n",
      "       'HEPATITIS B RECIEN NACIDO (HASTA 29 DÍAS) RECIEN NACIDO (Primeras 12 Horas) D. Unica',\n",
      "       'HEPATITIS B RECIEN NACIDO (HASTA 29 DÍAS) RECIEN NACIDO (Primeras 12 Horas) %',\n",
      "       'HEPATITIS B RECIEN NACIDO (HASTA 29 DÍAS) RECIEN NACIDO (Despues de las Primeras 12 Horas) D. Unica',\n",
      "       'HEPATITIS B RECIEN NACIDO (HASTA 29 DÍAS) RECIEN NACIDO (Despues de las Primeras 12 Horas) %',\n",
      "       'HB RECIEN NACIDO (HASTA 29 DÍAS) (Primeras 12 Horas)+ Despues de las primeras 12 horas D. Unica',\n",
      "       'HB RECIEN NACIDO (HASTA 29 DÍAS) (Primeras 12 Horas)+ Despues de las primeras 12 horas %',\n",
      "       'ANTIPOLIO INACTIVADA (VIP) PARENTERAL\\n<  DE 1 AÑO 1ras. Dosis',\n",
      "       'ANTIPOLIO INACTIVADA (VIP) PARENTERAL\\n<  DE 1 AÑO %',\n",
      "       'VOP <DE1 AÑO + VIP <1AÑO 3as 3.Dosis',\n",
      "       'VOP <DE1 AÑO + VIP <1AÑO 3as %', 'PENTA MENOR DE UN AÑO 1ras. Dosis',\n",
      "       'PENTA MENOR DE UN AÑO %', 'PENTA MENOR DE UN AÑO 2das. Dosis',\n",
      "       'PENTA MENOR DE UN AÑO %.1', 'PENTA MENOR DE UN AÑO 3ras. Dosis',\n",
      "       'PENTA MENOR DE UN AÑO %.2',\n",
      "       'ROTAVIRUS DE 2 A 3 MESES Y 21 DIAS 1ra Dosis',\n",
      "       'ROTAVIRUS DE 2 A 3 MESES Y 21 DIAS %',\n",
      "       'ROTAVIRUS DE 4 A 11 MESES Y 29 DIAS 2da Dosis',\n",
      "       'ROTAVIRUS DE 4 A 11 MESES Y 29 DIAS %',\n",
      "       'FLU DE 6 MESES A 11 MESES  1ra Dosis', 'FLU DE 6 MESES A 11 MESES  %',\n",
      "       'FLU DE 6 MESES A 11 MESES  2da Dosis',\n",
      "       'FLU DE 6 MESES A 11 MESES  %.1',\n",
      "       'Neumo (2 a 11 Meses 29 Dias) 1ra Dosis',\n",
      "       'Neumo (2 a 11 Meses 29 Dias) %',\n",
      "       'Neumo (2 a 11 Meses 29 Dias) 2da Dosis',\n",
      "       'Neumo (2 a 11 Meses 29 Dias) %.1',\n",
      "       'Población de 1 Año (Meta Programática)',\n",
      "       'SRP (T.V.) DE UN AÑO U.Dósis', 'SRP (T.V.) DE UN AÑO %',\n",
      "       'VARICELA DE 1 AÑO\\n1a U.Dósis', 'VARICELA DE 1 AÑO\\n1a %',\n",
      "       'HA\\n1 AÑO U. Dósis', 'HA\\n1 AÑO %', 'F.A. 1 AÑO U.Dósis',\n",
      "       'F.A. 1 AÑO %', 'Neumo de (12 meses a 23 Meses) REF.',\n",
      "       'Neumo de (12 meses a 23 Meses) %', 'Neumo de (12-23 Meses) 1ra Dosis',\n",
      "       'Neumo de (12-23 Meses) %', 'Neumo de (12-23 Meses) 2da Dosis',\n",
      "       'Neumo de (24- 35 Meses) Dosis Unica',\n",
      "       'VOP Al año de la 3ra Dosis 1er. Ref.', 'VOP Al año de la 3ra Dosis %',\n",
      "       'DPT Al año de la 3ra Dosis 1er. Ref.', 'DPT Al año de la 3ra Dosis %',\n",
      "       'Población 5 años Meta Programática)', 'VOP 5 AÑOS 2do. Ref.',\n",
      "       'VOP 5 AÑOS %', 'DPT 5 AÑOS 2do. Ref.', 'DPT 5 AÑOS %',\n",
      "       'SRP (T.V.) 5 AÑOS Dosis Ref.', 'SRP (T.V.) 5 AÑOS %',\n",
      "       'VARICELA DE 5 AÑOS U. Dósis', 'VARICELA DE 5 AÑOS %',\n",
      "       'FLU DE 18 A 40 AÑOS UNICA UNICA', 'FLU DE 41 A 59 AÑOS UNICA UNICA',\n",
      "       'Población > de 60 años   (DANE) 30%', 'FLU DE 60 AÑOS Y MAS UNICA',\n",
      "       'FLU DE 60 AÑOS Y MAS %',\n",
      "       'FLU Gestantes a partir de la semana 14 UNICA',\n",
      "       'FLU Gestantes a partir de la semana 14 %',\n",
      "       'TdaP ACELULAR GESTANTES DE 10 AÑOS Y MAS   U. D. C/ embarazo',\n",
      "       'TdaP ACELULAR GESTANTES DE 10 AÑOS Y MAS   %',\n",
      "       'VPH Niñas de 9 años Pob. VPH Niñas de 9 años',\n",
      "       'VPH Niñas de 9 años VPH 1a Dosis', 'VPH Niñas de 9 años % 1a Dosis',\n",
      "       'VPH Niñas de 9 años VPH 2a Dosis', 'VPH Niñas de 9 años % 2da Dosis',\n",
      "       'VPH Niñas de 9 años REGION'],\n",
      "      dtype='object')\n"
     ]
    }
   ],
   "source": [
    "print(df2018.columns)"
   ]
  },
  {
   "cell_type": "code",
   "execution_count": null,
   "id": "bcec6938",
   "metadata": {},
   "outputs": [
    {
     "name": "stdout",
     "output_type": "stream",
     "text": [
      "Duplicados por claves (Código + Departamento): 0\n"
     ]
    }
   ],
   "source": [
    "import pandas as pd\n",
    "\n",
    "# UNICIDAD \n",
    "columnas_clave = ['Unnamed: 0_level_0 Código', 'Unnamed: 1_level_0 DEPARTAMENTOS']\n",
    "duplicados = df2018.duplicated(subset=columnas_clave).sum()\n",
    "print(f\"Duplicados por claves (Código + Departamento): {duplicados}\")\n",
    "\n",
    "\n"
   ]
  },
  {
   "cell_type": "markdown",
   "id": "4764545b",
   "metadata": {},
   "source": [
    "El resultado indica que no hay filas duplicadas en el DataFrame 2018 según la combinación de las columnas Código y Departamento, lo que confirma que se cumple el criterio de unicidad."
   ]
  },
  {
   "cell_type": "markdown",
   "id": "3e15d986",
   "metadata": {},
   "source": [
    "Validez"
   ]
  },
  {
   "cell_type": "code",
   "execution_count": null,
   "id": "791df83d",
   "metadata": {},
   "outputs": [
    {
     "name": "stdout",
     "output_type": "stream",
     "text": [
      "BCG RECIEN NACIDO (HASTA 29 DÍAS) + MENOR UN AÑO (A PARTIR DE 30 DIAS HASTA 11 MESES 29 DIAS) %: 10 valores fuera de [0, 100]\n",
      "HEPATITIS B RECIEN NACIDO (HASTA 29 DÍAS) RECIEN NACIDO (Primeras 12 Horas) %: 4 valores fuera de [0, 100]\n",
      "PENTA MENOR DE UN AÑO %.2: 6 valores fuera de [0, 100]\n",
      "ROTAVIRUS DE 2 A 3 MESES Y 21 DIAS %: 7 valores fuera de [0, 100]\n"
     ]
    }
   ],
   "source": [
    "\n",
    "columnas_porcentajes = [\n",
    "    'BCG RECIEN NACIDO (HASTA 29 DÍAS) + MENOR UN AÑO (A PARTIR DE 30 DIAS HASTA 11 MESES 29 DIAS) %',\n",
    "    'HEPATITIS B RECIEN NACIDO (HASTA 29 DÍAS) RECIEN NACIDO (Primeras 12 Horas) %',\n",
    "    'PENTA MENOR DE UN AÑO %.2',\n",
    "    'ROTAVIRUS DE 2 A 3 MESES Y 21 DIAS %'\n",
    "]\n",
    "for col in columnas_porcentajes:\n",
    "    df2018[col] = pd.to_numeric(df2018[col], errors='coerce')\n",
    "    fuera_rango = df2018[(df2018[col] < 0) | (df2018[col] > 100)][col].count()\n",
    "    print(f\"{col}: {fuera_rango} valores fuera de [0, 100]\")\n",
    "\n"
   ]
  },
  {
   "cell_type": "markdown",
   "id": "fe4250cd",
   "metadata": {},
   "source": [
    "La validación muestra que hay valores fuera del rango [0, 100] en cuatro columnas porcentuales del DataFrame 2018, lo que indica que se deben tener en cuenta estos datos atipicos en la limpieza de los datos. "
   ]
  },
  {
   "cell_type": "markdown",
   "id": "932aa7df",
   "metadata": {},
   "source": [
    "Consistencia"
   ]
  },
  {
   "cell_type": "code",
   "execution_count": null,
   "id": "0e10fa06",
   "metadata": {},
   "outputs": [
    {
     "name": "stdout",
     "output_type": "stream",
     "text": [
      "\n",
      "Consistencia - Valores únicos por departamento:\n",
      "AMAZONAS              1\n",
      "RISARALDA             1\n",
      "MAGDALENA             1\n",
      "SANTA MARTA           1\n",
      "META                  1\n",
      "NARIÑO                1\n",
      "NORTE DE SANTANDER    1\n",
      "PUTUMAYO              1\n",
      "QUINDIO               1\n",
      "SAN_ANDRES_ISLA       1\n",
      "ANTIOQUIA             1\n",
      "SANTANDER             1\n",
      "SUCRE                 1\n",
      "TOLIMA                1\n",
      "VALLE_DEL_CAUCA       1\n",
      "BUENAVENTURA          1\n",
      "VAUPES                1\n",
      "VICHADA               1\n",
      "LA GUAJIRA            1\n",
      "HUILA                 1\n",
      "GUAVIARE              1\n",
      "GUAINIA               1\n",
      "ARAUCA                1\n",
      "ATLANTICO             1\n",
      "BARRANQUILLA          1\n",
      "BOGOTA D.C.           1\n",
      "BOLIVAR               1\n",
      "CARTAGENA             1\n",
      "BOYACA                1\n",
      "CALDAS                1\n",
      "CAQUETA               1\n",
      "CASANARE              1\n",
      "CAUCA                 1\n",
      "CESAR                 1\n",
      "CHOCO                 1\n",
      "CORDOBA               1\n",
      "CUNDINAMARCA          1\n",
      "TOTAL                 1\n",
      "Name: Unnamed: 1_level_0 DEPARTAMENTOS, dtype: int64\n"
     ]
    }
   ],
   "source": [
    "\n",
    "print(\"\\nConsistencia - Valores únicos por departamento:\")\n",
    "print(df2018['Unnamed: 1_level_0 DEPARTAMENTOS'].value_counts())\n",
    "\n"
   ]
  },
  {
   "cell_type": "markdown",
   "id": "4f730318",
   "metadata": {},
   "source": [
    "Cada departamento aparece una sola vez, lo que indica consistencia en la columna. Sin embargo, la presencia de TOTAL indica que hay una fila resumen que no corresponde a un departamento real lo cual se podria no tener en cuenta.\n"
   ]
  },
  {
   "cell_type": "markdown",
   "id": "1b523b1e",
   "metadata": {},
   "source": [
    "Completitud"
   ]
  },
  {
   "cell_type": "code",
   "execution_count": null,
   "id": "3e6ebf81",
   "metadata": {},
   "outputs": [
    {
     "name": "stdout",
     "output_type": "stream",
     "text": [
      "\n",
      "Valores nulos por columna seleccionada:\n",
      "Unnamed: 0_level_0 Código: 2\n",
      "Unnamed: 1_level_0 DEPARTAMENTOS: 1\n",
      "Unnamed: 2_level_0 Población Menor 1 año (Meta Programática): 1\n",
      "BCG... Dosis Unica: 1\n",
      "BCG... %: 1\n",
      "VPH 1a Dosis: 1\n",
      "VPH REGION: 2\n",
      "\n",
      "Valores vacíos ('') por columna seleccionada:\n",
      "Unnamed: 0_level_0 Código: 0\n",
      "Unnamed: 1_level_0 DEPARTAMENTOS: 0\n",
      "Unnamed: 2_level_0 Población Menor 1 año (Meta Programática): 0\n",
      "BCG... Dosis Unica: 0\n",
      "BCG... %: 0\n",
      "VPH 1a Dosis: 0\n",
      "VPH REGION: 0\n"
     ]
    }
   ],
   "source": [
    "\n",
    "\n",
    "print(\"\\nValores nulos por columna seleccionada:\")\n",
    "print(f\"Unnamed: 0_level_0 Código: {df2018['Unnamed: 0_level_0 Código'].isnull().sum()}\")\n",
    "print(f\"Unnamed: 1_level_0 DEPARTAMENTOS: {df2018['Unnamed: 1_level_0 DEPARTAMENTOS'].isnull().sum()}\")\n",
    "print(f\"Unnamed: 2_level_0 Población Menor 1 año (Meta Programática): {df2018['Unnamed: 2_level_0 Población Menor 1 año (Meta Programática)'].isnull().sum()}\")\n",
    "print(f\"BCG... Dosis Unica: {df2018['BCG RECIEN NACIDO (HASTA 29 DÍAS) + MENOR UN AÑO (A PARTIR DE 30 DIAS HASTA 11 MESES 29 DIAS) Dosis Unica'].isnull().sum()}\")\n",
    "print(f\"BCG... %: {df2018['BCG RECIEN NACIDO (HASTA 29 DÍAS) + MENOR UN AÑO (A PARTIR DE 30 DIAS HASTA 11 MESES 29 DIAS) %'].isnull().sum()}\")\n",
    "print(f\"VPH 1a Dosis: {df2018['VPH Niñas de 9 años VPH 1a Dosis'].isnull().sum()}\")\n",
    "print(f\"VPH REGION: {df2018['VPH Niñas de 9 años REGION'].isnull().sum()}\")\n",
    "\n",
    "print(\"\\nValores vacíos ('') por columna seleccionada:\")\n",
    "print(f\"Unnamed: 0_level_0 Código: {(df2018['Unnamed: 0_level_0 Código'].astype(str).str.strip() == '').sum()}\")\n",
    "print(f\"Unnamed: 1_level_0 DEPARTAMENTOS: {(df2018['Unnamed: 1_level_0 DEPARTAMENTOS'].astype(str).str.strip() == '').sum()}\")\n",
    "print(f\"Unnamed: 2_level_0 Población Menor 1 año (Meta Programática): {(df2018['Unnamed: 2_level_0 Población Menor 1 año (Meta Programática)'].astype(str).str.strip() == '').sum()}\")\n",
    "print(f\"BCG... Dosis Unica: {(df2018['BCG RECIEN NACIDO (HASTA 29 DÍAS) + MENOR UN AÑO (A PARTIR DE 30 DIAS HASTA 11 MESES 29 DIAS) Dosis Unica'].astype(str).str.strip() == '').sum()}\")\n",
    "print(f\"BCG... %: {(df2018['BCG RECIEN NACIDO (HASTA 29 DÍAS) + MENOR UN AÑO (A PARTIR DE 30 DIAS HASTA 11 MESES 29 DIAS) %'].astype(str).str.strip() == '').sum()}\")\n",
    "print(f\"VPH 1a Dosis: {(df2018['VPH Niñas de 9 años VPH 1a Dosis'].astype(str).str.strip() == '').sum()}\")\n",
    "print(f\"VPH REGION: {(df2018['VPH Niñas de 9 años REGION'].astype(str).str.strip() == '').sum()}\")\n"
   ]
  },
  {
   "cell_type": "markdown",
   "id": "ac38fd89",
   "metadata": {},
   "source": [
    "En los resultados de completitud del DataFrame 2018 se observa la presencia de valores nulos en varias columnas. En particular, las columnas de identificación como 'Código' y 'DEPARTAMENTOS' tienen 2 y 1 valores nulos respectivamente. También hay nulos en variables de población objetivo y cobertura como 'Población Menor 1 año (Meta Programática)', 'BCG... Dosis Unica', 'BCG... %', y 'VPH 1a Dosis', todos con 1 valor nulo. La columna 'VPH REGION' presenta 2 nulos. Por otro lado, no se encontraron celdas vacías en blanco ('') en las columnas evaluadas, lo que indica que los vacíos detectados corresponden exclusivamente a valores NaN. "
   ]
  },
  {
   "cell_type": "markdown",
   "id": "43de2b44",
   "metadata": {},
   "source": [
    "Analisis Dataframe 2019 "
   ]
  },
  {
   "cell_type": "code",
   "execution_count": 26,
   "id": "1ea1998d",
   "metadata": {},
   "outputs": [
    {
     "name": "stdout",
     "output_type": "stream",
     "text": [
      "Index(['Unnamed: 0_level_0 Código', 'Unnamed: 1_level_0 DEPARTAMENTOS',\n",
      "       'Unnamed: 2_level_0 Población Menor 1 año (Meta Programática)',\n",
      "       'BCG RECIEN NACIDO (HASTA 29 DÍAS) + MENOR UN AÑO (A PARTIR DE 30 DIAS HASTA 11 MESES 29 DIAS) Dosis Unica',\n",
      "       'BCG RECIEN NACIDO (HASTA 29 DÍAS) + MENOR UN AÑO (A PARTIR DE 30 DIAS HASTA 11 MESES 29 DIAS) %',\n",
      "       'HEPATITIS B RECIEN NACIDO (HASTA 29 DÍAS) RECIEN NACIDO (Primeras 12 Horas) D. Unica',\n",
      "       'HEPATITIS B RECIEN NACIDO (HASTA 29 DÍAS) RECIEN NACIDO (Primeras 12 Horas) %',\n",
      "       'HEPATITIS B RECIEN NACIDO (HASTA 29 DÍAS) RECIEN NACIDO (Despues de las Primeras 12 Horas) D. Unica',\n",
      "       'HEPATITIS B RECIEN NACIDO (HASTA 29 DÍAS) RECIEN NACIDO (Despues de las Primeras 12 Horas) %',\n",
      "       'HB RECIEN NACIDO (HASTA 29 DÍAS) (Primeras 12 Horas)+ Despues de las primeras 12 horas D. Unica',\n",
      "       'HB RECIEN NACIDO (HASTA 29 DÍAS) (Primeras 12 Horas)+ Despues de las primeras 12 horas %',\n",
      "       'ANTIPOLIO INACTIVADA (VIP) PARENTERAL\\n<  DE 1 AÑO 1ras. Dosis',\n",
      "       'ANTIPOLIO INACTIVADA (VIP) PARENTERAL\\n<  DE 1 AÑO %',\n",
      "       'VOP <DE1 AÑO + VIP <1AÑO 3as 3.Dosis',\n",
      "       'VOP <DE1 AÑO + VIP <1AÑO 3as %', 'PENTA MENOR DE UN AÑO 1ras. Dosis',\n",
      "       'PENTA MENOR DE UN AÑO %', 'PENTA MENOR DE UN AÑO 2das. Dosis',\n",
      "       'PENTA MENOR DE UN AÑO %.1', 'PENTA MENOR DE UN AÑO 3ras. Dosis',\n",
      "       'PENTA MENOR DE UN AÑO %.2',\n",
      "       'ROTAVIRUS DE 2 A 3 MESES Y 21 DIAS 1ra Dosis',\n",
      "       'ROTAVIRUS DE 2 A 3 MESES Y 21 DIAS %',\n",
      "       'ROTAVIRUS DE 4 A 11 MESES Y 29 DIAS 2da Dosis',\n",
      "       'ROTAVIRUS DE 4 A 11 MESES Y 29 DIAS %',\n",
      "       'FLU DE 6 MESES A 11 MESES  1ra Dosis', 'FLU DE 6 MESES A 11 MESES  %',\n",
      "       'FLU DE 6 MESES A 11 MESES  2da Dosis',\n",
      "       'FLU DE 6 MESES A 11 MESES  %.1',\n",
      "       'Neumo (2 a 11 Meses 29 Dias) 1ra Dosis',\n",
      "       'Neumo (2 a 11 Meses 29 Dias) %',\n",
      "       'Neumo (2 a 11 Meses 29 Dias) 2da Dosis',\n",
      "       'Neumo (2 a 11 Meses 29 Dias) %.1',\n",
      "       'Población de 1 Año (Meta Programática)',\n",
      "       'SRP (T.V.) DE UN AÑO U.Dósis', 'SRP (T.V.) DE UN AÑO %',\n",
      "       'VARICELA DE 1 AÑO\\n1a U.Dósis', 'VARICELA DE 1 AÑO\\n1a %',\n",
      "       'HA\\n1 AÑO U. Dósis', 'HA\\n1 AÑO %', 'F.A. 1 AÑO U.Dósis',\n",
      "       'F.A. 1 AÑO %', 'Neumo de (12 meses a 23 Meses) REF.',\n",
      "       'Neumo de (12 meses a 23 Meses) %', 'Neumo de (12-23 Meses) 1ra Dosis',\n",
      "       'Neumo de (12-23 Meses) %', 'Neumo de (12-23 Meses) 2da Dosis',\n",
      "       'Neumo de (24- 35 Meses) Dosis Unica',\n",
      "       'VOP Al año de la 3ra Dosis 1er. Ref.', 'VOP Al año de la 3ra Dosis %',\n",
      "       'DPT Al año de la 3ra Dosis 1er. Ref.', 'DPT Al año de la 3ra Dosis %',\n",
      "       'Población 5 años Meta Programática)', 'VOP 5 AÑOS 2do. Ref.',\n",
      "       'VOP 5 AÑOS %', 'DPT 5 AÑOS 2do. Ref.', 'DPT 5 AÑOS %',\n",
      "       'SRP (T.V.) 5 AÑOS Dosis Ref.', 'SRP (T.V.) 5 AÑOS %',\n",
      "       'VARICELA DE 5 AÑOS U. Dósis', 'VARICELA DE 5 AÑOS %',\n",
      "       'FLU DE 18 A 40 AÑOS UNICA UNICA', 'FLU DE 41 A 59 AÑOS UNICA UNICA',\n",
      "       'Población > de 60 años   (DANE) 30%', 'FLU DE 60 AÑOS Y MAS UNICA',\n",
      "       'FLU DE 60 AÑOS Y MAS %',\n",
      "       'FLU Gestantes a partir de la semana 14 UNICA',\n",
      "       'FLU Gestantes a partir de la semana 14 %',\n",
      "       'TdaP ACELULAR GESTANTES DE 10 AÑOS Y MAS   U. D. C/ embarazo',\n",
      "       'TdaP ACELULAR GESTANTES DE 10 AÑOS Y MAS   %',\n",
      "       'VPH Niñas de 9 años Pob. VPH Niñas de 9 años',\n",
      "       'VPH Niñas de 9 años VPH 1a Dosis', 'VPH Niñas de 9 años % 1a Dosis',\n",
      "       'VPH Niñas de 9 años VPH 2a Dosis', 'VPH Niñas de 9 años % 2da Dosis',\n",
      "       'VPH Niñas de 9 años REGION'],\n",
      "      dtype='object')\n"
     ]
    }
   ],
   "source": [
    "print(df2019.columns)"
   ]
  },
  {
   "cell_type": "markdown",
   "id": "a595242f",
   "metadata": {},
   "source": [
    "Unicidad"
   ]
  },
  {
   "cell_type": "code",
   "execution_count": 31,
   "id": "e23b09c4",
   "metadata": {},
   "outputs": [
    {
     "name": "stdout",
     "output_type": "stream",
     "text": [
      "Filas duplicadas completas: 0\n",
      "Duplicados por columnas : 0\n"
     ]
    }
   ],
   "source": [
    "print(\"Filas duplicadas completas:\", df2019.duplicated().sum())\n",
    "columnas_clave = ['Unnamed: 0_level_0 Código', 'Unnamed: 1_level_0 DEPARTAMENTOS']\n",
    "print(\"Duplicados por columnas :\", df2019.duplicated(subset=columnas_clave).sum())"
   ]
  },
  {
   "cell_type": "markdown",
   "id": "13c1a315",
   "metadata": {},
   "source": [
    "No hay ni filas ni columnas duplciadas"
   ]
  },
  {
   "cell_type": "markdown",
   "id": "23898c6f",
   "metadata": {},
   "source": [
    "Validez"
   ]
  },
  {
   "cell_type": "code",
   "execution_count": 28,
   "id": "b3f922ee",
   "metadata": {},
   "outputs": [
    {
     "name": "stdout",
     "output_type": "stream",
     "text": [
      "\n",
      "Tipos de variables en df2019:\n",
      "float64    74\n",
      "object      2\n",
      "dtype: int64\n",
      "\n",
      "Detalle por columna:\n",
      "Unnamed: 0_level_0 Código                                                                                    float64\n",
      "Unnamed: 1_level_0 DEPARTAMENTOS                                                                              object\n",
      "Unnamed: 2_level_0 Población Menor 1 año (Meta Programática)                                                 float64\n",
      "BCG RECIEN NACIDO (HASTA 29 DÍAS) + MENOR UN AÑO (A PARTIR DE 30 DIAS HASTA 11 MESES 29 DIAS) Dosis Unica    float64\n",
      "BCG RECIEN NACIDO (HASTA 29 DÍAS) + MENOR UN AÑO (A PARTIR DE 30 DIAS HASTA 11 MESES 29 DIAS) %              float64\n",
      "                                                                                                              ...   \n",
      "VPH Niñas de 9 años VPH 1a Dosis                                                                             float64\n",
      "VPH Niñas de 9 años % 1a Dosis                                                                               float64\n",
      "VPH Niñas de 9 años VPH 2a Dosis                                                                             float64\n",
      "VPH Niñas de 9 años % 2da Dosis                                                                              float64\n",
      "VPH Niñas de 9 años REGION                                                                                    object\n",
      "Length: 76, dtype: object\n"
     ]
    }
   ],
   "source": [
    "\n",
    "print(\"\\nTipos de variables en df2019:\")\n",
    "print(df2019.dtypes.value_counts())\n",
    "print(\"\\nDetalle por columna:\")\n",
    "print(df2019.dtypes)"
   ]
  },
  {
   "cell_type": "markdown",
   "id": "370035b3",
   "metadata": {},
   "source": [
    " El dataframe está compuesto por 76 columnas, de las cuales 74 son de tipo float64 y 2 son object. Esto indica que la mayoría de los datos corresponden a valores numéricos decimales, comúnmente usados para porcentajes y conteos. Las columnas de tipo object contienen información categórica, como nombres de departamentos o regiones, lo cual es consistente con variables identificadoras."
   ]
  },
  {
   "cell_type": "markdown",
   "id": "7b82013a",
   "metadata": {},
   "source": [
    "Consistencia"
   ]
  },
  {
   "cell_type": "code",
   "execution_count": 29,
   "id": "25bad5cb",
   "metadata": {},
   "outputs": [
    {
     "name": "stdout",
     "output_type": "stream",
     "text": [
      "\n",
      "Consistencia - Valores únicos por departamento:\n",
      "AMAZONAS              1\n",
      "RISARALDA             1\n",
      "MAGDALENA             1\n",
      "SANTA MARTA           1\n",
      "META                  1\n",
      "NARIÑO                1\n",
      "NORTE DE SANTANDER    1\n",
      "PUTUMAYO              1\n",
      "QUINDIO               1\n",
      "SAN_ANDRES_ISLA       1\n",
      "ANTIOQUIA             1\n",
      "SANTANDER             1\n",
      "SUCRE                 1\n",
      "TOLIMA                1\n",
      "VALLE_DEL_CAUCA       1\n",
      "BUENAVENTURA          1\n",
      "VAUPES                1\n",
      "VICHADA               1\n",
      "LA GUAJIRA            1\n",
      "HUILA                 1\n",
      "GUAVIARE              1\n",
      "GUAINIA               1\n",
      "ARAUCA                1\n",
      "ATLANTICO             1\n",
      "BARRANQUILLA          1\n",
      "BOGOTA D.C.           1\n",
      "BOLIVAR               1\n",
      "CARTAGENA             1\n",
      "BOYACA                1\n",
      "CALDAS                1\n",
      "CAQUETA               1\n",
      "CASANARE              1\n",
      "CAUCA                 1\n",
      "CESAR                 1\n",
      "CHOCO                 1\n",
      "CORDOBA               1\n",
      "CUNDINAMARCA          1\n",
      "TOTAL                 1\n",
      "Name: Unnamed: 1_level_0 DEPARTAMENTOS, dtype: int64\n"
     ]
    }
   ],
   "source": [
    "\n",
    "print(\"\\nConsistencia - Valores únicos por departamento:\")\n",
    "print(df2019['Unnamed: 1_level_0 DEPARTAMENTOS'].value_counts())"
   ]
  },
  {
   "cell_type": "markdown",
   "id": "721ffe1f",
   "metadata": {},
   "source": [
    "Cada departamento aparece exactamente una vez. Esto indica que no hay registros duplicados en esta variable categórica clave, lo cual es importante para garantizar la integridad de los datos por unidad geográfica."
   ]
  },
  {
   "cell_type": "markdown",
   "id": "dc88cd4f",
   "metadata": {},
   "source": [
    "Completitud"
   ]
  },
  {
   "cell_type": "code",
   "execution_count": 32,
   "id": "4c0af4bc",
   "metadata": {},
   "outputs": [
    {
     "name": "stdout",
     "output_type": "stream",
     "text": [
      "\n",
      "Valores nulos por columna seleccionada:\n",
      "Unnamed: 0_level_0 Código: 2\n",
      "Unnamed: 1_level_0 DEPARTAMENTOS: 1\n",
      "VPH Niñas de 9 años VPH 1a Dosis: 1\n",
      "VPH Niñas de 9 años % 1a Dosis: 1\n",
      "VPH Niñas de 9 años REGION: 2\n",
      "\n",
      "Valores vacíos ('') por columna seleccionada:\n",
      "Unnamed: 0_level_0 Código: 0\n",
      "Unnamed: 1_level_0 DEPARTAMENTOS: 0\n",
      "VPH Niñas de 9 años VPH 1a Dosis: 0\n",
      "VPH Niñas de 9 años % 1a Dosis: 0\n",
      "VPH Niñas de 9 años REGION: 0\n"
     ]
    }
   ],
   "source": [
    "\n",
    "columnas_verificar = [\n",
    "    'Unnamed: 0_level_0 Código',\n",
    "    'Unnamed: 1_level_0 DEPARTAMENTOS',\n",
    "    'VPH Niñas de 9 años VPH 1a Dosis',\n",
    "    'VPH Niñas de 9 años % 1a Dosis',\n",
    "    'VPH Niñas de 9 años REGION'\n",
    "]\n",
    "print(\"\\nValores nulos por columna seleccionada:\")\n",
    "for col in columnas_verificar:\n",
    "    print(f\"{col}: {df2019[col].isna().sum()}\")\n",
    "\n",
    "print(\"\\nValores vacíos ('') por columna seleccionada:\")\n",
    "for col in columnas_verificar:\n",
    "    print(f\"{col}: {(df2019[col] == '').sum() if df2019[col].dtype == 'object' else 0}\")"
   ]
  },
  {
   "cell_type": "markdown",
   "id": "5ed74f87",
   "metadata": {},
   "source": [
    "se detectan valores nulos en las columnas clave: Código (2), Departamento (1), y en las relacionadas con VPH (1 o 2 nulos por columna). No se identificaron valores vacíos como cadenas en blanco. Esto sugiere que aunque no hay espacios vacíos explícitos, existen registros incompletos que podrían requerir ser elimiandas según su relevancia."
   ]
  }
 ],
 "metadata": {
  "kernelspec": {
   "display_name": "Python 3",
   "language": "python",
   "name": "python3"
  },
  "language_info": {
   "codemirror_mode": {
    "name": "ipython",
    "version": 3
   },
   "file_extension": ".py",
   "mimetype": "text/x-python",
   "name": "python",
   "nbconvert_exporter": "python",
   "pygments_lexer": "ipython3",
   "version": "3.9.21"
  }
 },
 "nbformat": 4,
 "nbformat_minor": 5
}
