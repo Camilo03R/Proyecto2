{
 "cells": [
  {
   "cell_type": "markdown",
   "id": "53c03bbb",
   "metadata": {},
   "source": [
    "analisis de datos del archivo "
   ]
  },
  {
   "cell_type": "code",
   "execution_count": 2,
   "id": "8114789d",
   "metadata": {},
   "outputs": [],
   "source": [
    "import pandas as pd"
   ]
  },
  {
   "cell_type": "code",
   "execution_count": 17,
   "id": "030ce14e",
   "metadata": {},
   "outputs": [
    {
     "name": "stdout",
     "output_type": "stream",
     "text": [
      "    ANO    MES  CODIGO DEPARTAMENTO     DEPARTAMENTO  CODIGO MUNICIPIO  \\\n",
      "0  2022  ENERO                   76  VALLE DEL CAUCA             76020   \n",
      "1  2022  ENERO                   76  VALLE DEL CAUCA             76020   \n",
      "2  2022  ENERO                   76  VALLE DEL CAUCA             76020   \n",
      "3  2022  ENERO                   76  VALLE DEL CAUCA             76020   \n",
      "4  2022  ENERO                   76  VALLE DEL CAUCA             76020   \n",
      "\n",
      "  MUNICIPIO GRUPO POBLACIONAL    BIOLOGICO  META  DOSIS APLICADAS  COBERTURA  \\\n",
      "0    ALCALÁ     RECIEN NACIDO          BCG   153                0   0.000000   \n",
      "1    ALCALÁ     RECIEN NACIDO  HEPATITIS B   153                0   0.000000   \n",
      "2    ALCALÁ         DOS MESES    POLIO 1ra   153               12   7.843137   \n",
      "3    ALCALÁ      CUATRO MESES    POLIO 2da   153               14   9.150327   \n",
      "4    ALCALÁ        SEIS MESES    POLIO 3ra   153               17  11.111111   \n",
      "\n",
      "   DOSIS APLICADAS ACUMULADAS  COBERTURA ACUMULADA  \n",
      "0                           0             0.000000  \n",
      "1                           0             0.000000  \n",
      "2                          12             7.843137  \n",
      "3                          14             9.150327  \n",
      "4                          17            11.111111  \n"
     ]
    }
   ],
   "source": [
    "archivo=\"Datos/Cobertura_Vacunacion_Valle_Del_Cauca_2022-2023.xlsx\"\n",
    "df = pd.read_excel(archivo)\n",
    "print(df.head())"
   ]
  },
  {
   "cell_type": "markdown",
   "id": "a562938e",
   "metadata": {},
   "source": [
    "El archivo contiene información sobre la aplicación de biológicos en el municipio de Alcalá, departamento del Valle del Cauca, correspondiente al mes de enero del año 2022. Cada fila representa una combinación única de grupo poblacional y vacuna aplicada, con su respectiva meta de cobertura, dosis administradas y los porcentajes de cobertura alcanzados, tanto mensual como acumuladamente. En los dos primeros registros, correspondientes a recién nacidos y las vacunas BCG y Hepatitis B, no se reportan dosis aplicadas, lo que genera coberturas en cero. En los registros siguientes se observa la administración de vacunas correspondientes a los dos, cuatro y seis meses de edad, con coberturas que oscilan entre el 7.84% y el 11.11%. Esto indica un bajo nivel de cumplimiento respecto a la meta establecida 153."
   ]
  },
  {
   "cell_type": "markdown",
   "id": "cfc5763b",
   "metadata": {},
   "source": [
    "Tipos de Variables"
   ]
  },
  {
   "cell_type": "code",
   "execution_count": null,
   "id": "3a60aa83",
   "metadata": {},
   "outputs": [
    {
     "name": "stdout",
     "output_type": "stream",
     "text": [
      "=== Tipos de datos únicos en el DataFrame ===\n",
      "int64      6\n",
      "object     5\n",
      "float64    2\n",
      "dtype: int64\n",
      "\n",
      "=== Tipo de dato por columna ===\n",
      "ANO                             int64\n",
      "MES                            object\n",
      "CODIGO DEPARTAMENTO             int64\n",
      "DEPARTAMENTO                   object\n",
      "CODIGO MUNICIPIO                int64\n",
      "MUNICIPIO                      object\n",
      "GRUPO POBLACIONAL              object\n",
      "BIOLOGICO                      object\n",
      "META                            int64\n",
      "DOSIS APLICADAS                 int64\n",
      "COBERTURA                     float64\n",
      "DOSIS APLICADAS ACUMULADAS      int64\n",
      "COBERTURA ACUMULADA           float64\n",
      "dtype: object\n"
     ]
    }
   ],
   "source": [
    "# Mostrar tipos únicos de datos \n",
    "print(\" Tipos de datos únicos en el DataFrame \")\n",
    "print(df.dtypes.value_counts())\n",
    "\n",
    "# Mostrar tipo de cada columna\n",
    "print(\"\\n Tipo de dato por columna \")\n",
    "print(df.dtypes)"
   ]
  },
  {
   "cell_type": "markdown",
   "id": "88f89097",
   "metadata": {},
   "source": [
    "El DataFrame contiene un total de 13 columnas distribuidas en tres tipos de datos: 6 columnas son de tipo entero (int64), 5 son de tipo texto (object) y 2 son de tipo decimal (float64). Las variables numéricas enteras corresponden a identificadores, cantidades aplicadas y metas, mientras que las variables tipo float64 representan porcentajes de cobertura. Las columnas categóricas como MES, DEPARTAMENTO, MUNICIPIO, GRUPO POBLACIONAL y BIOLÓGICO son de tipo object."
   ]
  },
  {
   "cell_type": "markdown",
   "id": "975ea94a",
   "metadata": {},
   "source": [
    "Unicidad"
   ]
  },
  {
   "cell_type": "code",
   "execution_count": null,
   "id": "4e9308c4",
   "metadata": {},
   "outputs": [
    {
     "name": "stdout",
     "output_type": "stream",
     "text": [
      "Número total de filas: 24960\n",
      "Filas duplicadas completamente: 0\n",
      "Filas duplicadas por claves: 0\n"
     ]
    }
   ],
   "source": [
    "\n",
    "\n",
    "print(\"Número total de filas:\", len(df))\n",
    "print(\"Filas duplicadas completamente:\", df.duplicated().sum())\n",
    "\n",
    "# Verificar unicidad por columnas clave\n",
    "columnas_clave = ['ANO', 'MES', 'CODIGO DEPARTAMENTO', 'CODIGO MUNICIPIO', 'GRUPO POBLACIONAL', 'BIOLOGICO']\n",
    "duplicados_clave = df.duplicated(subset=columnas_clave).sum()\n",
    "print(\"Filas duplicadas por claves:\", duplicados_clave)\n"
   ]
  },
  {
   "cell_type": "markdown",
   "id": "cbaf4171",
   "metadata": {},
   "source": [
    "El archivo contiene 24.960 registros y cumple con el criterio de unicidad, ya que no presenta filas duplicadas ni repeticiones en la combinación clave de año, mes, municipio, grupo poblacional y biológico, lo que indica una correcta estructura de los datos."
   ]
  },
  {
   "cell_type": "markdown",
   "id": "3b6cb719",
   "metadata": {},
   "source": [
    "Validez"
   ]
  },
  {
   "cell_type": "code",
   "execution_count": 9,
   "id": "9bbeb5e4",
   "metadata": {},
   "outputs": [
    {
     "name": "stdout",
     "output_type": "stream",
     "text": [
      "Cobertura fuera de rango [0–100]: 1\n",
      "Cobertura acumulada fuera de rango [0–100]: 511\n",
      "Valores inválidos en columna MES: 0\n"
     ]
    }
   ],
   "source": [
    "\n",
    "# Revisar rangos y formatos esperados\n",
    "df['COBERTURA'] = df['COBERTURA'].astype(str).str.replace(\",\", \".\").astype(float)\n",
    "df['COBERTURA ACUMULADA'] = df['COBERTURA ACUMULADA'].astype(str).str.replace(\",\", \".\").astype(float)\n",
    "\n",
    "print(\"Cobertura fuera de rango [0–100]:\", df[(df['COBERTURA'] < 0) | (df['COBERTURA'] > 100)].shape[0])\n",
    "print(\"Cobertura acumulada fuera de rango [0–100]:\", df[(df['COBERTURA ACUMULADA'] < 0) | (df['COBERTURA ACUMULADA'] > 100)].shape[0])\n",
    "\n",
    "# Meses válidos\n",
    "meses_validos = ['ENERO', 'FEBRERO', 'MARZO', 'ABRIL', 'MAYO', 'JUNIO',\n",
    "                 'JULIO', 'AGOSTO', 'SEPTIEMBRE', 'OCTUBRE', 'NOVIEMBRE', 'DICIEMBRE']\n",
    "print(\"Valores inválidos en columna MES:\", df[~df['MES'].isin(meses_validos)].shape[0])\n",
    "\n"
   ]
  },
  {
   "cell_type": "markdown",
   "id": "d035cc16",
   "metadata": {},
   "source": [
    "Analisis \n",
    "\n",
    "presenta una alta validez general en sus datos: solo se identificó 1 valor fuera del rango esperado (0–100) en la columna de cobertura y 511 valores fuera de rango en la cobertura acumulada, lo cual debe revisarse. No se encontraron valores inválidos en la columna de mes, lo que indica consistencia con los nombres esperados."
   ]
  },
  {
   "cell_type": "markdown",
   "id": "8c719036",
   "metadata": {},
   "source": [
    "CONSISTENCIA "
   ]
  },
  {
   "cell_type": "code",
   "execution_count": 12,
   "id": "5b673960",
   "metadata": {},
   "outputs": [
    {
     "name": "stdout",
     "output_type": "stream",
     "text": [
      "\n",
      "Revisión de valores inconsistentes:\n",
      "\n",
      "MES - valores únicos:\n",
      "ENERO         2080\n",
      "FEBRERO       2080\n",
      "MARZO         2080\n",
      "ABRIL         2080\n",
      "MAYO          2080\n",
      "JUNIO         2080\n",
      "JULIO         2080\n",
      "AGOSTO        2080\n",
      "SEPTIEMBRE    2080\n",
      "OCTUBRE       2080\n",
      "NOVIEMBRE     2080\n",
      "DICIEMBRE     2080\n",
      "Name: MES, dtype: int64\n",
      "\n",
      "DEPARTAMENTO - valores únicos:\n",
      "VALLE DEL CAUCA    24960\n",
      "Name: DEPARTAMENTO, dtype: int64\n",
      "\n",
      "MUNICIPIO - valores únicos:\n",
      "ALCALÁ                 624\n",
      "ANDALUCÍA              624\n",
      "LA VICTORIA            624\n",
      "OBANDO                 624\n",
      "PALMIRA                624\n",
      "PRADERA                624\n",
      "RESTREPO               624\n",
      "RIOFRÍO                624\n",
      "ROLDANILLO             624\n",
      "SAN PEDRO              624\n",
      "SEVILLA                624\n",
      "TORO                   624\n",
      "TRUJILLO               624\n",
      "TULUÁ                  624\n",
      "ULLOA                  624\n",
      "VERSALLES              624\n",
      "VIJES                  624\n",
      "YOTOCO                 624\n",
      "YUMBO                  624\n",
      "LA UNIÓN               624\n",
      "LA CUMBRE              624\n",
      "JAMUNDÍ                624\n",
      "CANDELARIA             624\n",
      "ANSERMANUEVO           624\n",
      "ARGELIA                624\n",
      "BOLÍVAR                624\n",
      "GUADALAJARA DE BUGA    624\n",
      "BUGALAGRANDE           624\n",
      "CAICEDONIA             624\n",
      "CALIMA                 624\n",
      "CARTAGO                624\n",
      "GUACARÍ                624\n",
      "DAGUA                  624\n",
      "EL ÁGUILA              624\n",
      "EL CAIRO               624\n",
      "EL CERRITO             624\n",
      "EL DOVIO               624\n",
      "FLORIDA                624\n",
      "GINEBRA                624\n",
      "ZARZAL                 624\n",
      "Name: MUNICIPIO, dtype: int64\n",
      "\n",
      "GRUPO POBLACIONAL - valores únicos:\n",
      "DOS MESES          3840\n",
      "CUATRO MESES       3840\n",
      "UN AÑO             3840\n",
      "DIECIOCHO MESES    3360\n",
      "CINCO AÑOS         3360\n",
      "RECIEN NACIDO      1920\n",
      "SEIS MESES         1920\n",
      "VPH                1920\n",
      "GESTANTES           960\n",
      "Name: GRUPO POBLACIONAL, dtype: int64\n",
      "\n",
      "BIOLOGICO - valores únicos:\n",
      "BCG                          960\n",
      "HEPATITIS B                  960\n",
      "VPH 2da                      960\n",
      "VPH 1ra                      960\n",
      "TdaP ACELULAR GESTANTES      960\n",
      "VARICELA ref.                960\n",
      "DPT 2da ref                  960\n",
      "POLIO 2da ref                960\n",
      "PENTA 1era ref               960\n",
      "POLIO 1ra ref                960\n",
      "FIEBRE AMARILLA              960\n",
      "NEUMOCOCO ref                960\n",
      "VARICELA                     960\n",
      "HEPATITIS A                  960\n",
      "TRIPLE VIRAL                 960\n",
      "NEUMOCOCO 2da                960\n",
      "NEUMOCOCO 1ra                960\n",
      "ROTAVIRUS 2da                960\n",
      "ROTAVIRUS 1ra                960\n",
      "PENTA 3ra                    960\n",
      "PENTA 2da                    960\n",
      "PENTA 1ra                    960\n",
      "POLIO 3ra                    960\n",
      "POLIO 2da                    960\n",
      "POLIO 1ra                    960\n",
      "TRIPLE VIRAL ref 5 anos      480\n",
      "TRIPLE VIRAL ref 18 meses    480\n",
      "Name: BIOLOGICO, dtype: int64\n"
     ]
    }
   ],
   "source": [
    "\n",
    "# Detectar posibles inconsistencias en variables tipo texto\n",
    "print(\"\\nRevisión de valores inconsistentes:\")\n",
    "for col in df.select_dtypes(include='object').columns:\n",
    "    print(f\"\\n{col} - valores únicos:\")\n",
    "    print(df[col].value_counts(dropna=False))\n"
   ]
  },
  {
   "cell_type": "markdown",
   "id": "3be6746b",
   "metadata": {},
   "source": [
    "Hay un nivel adecuado de consistencia en las variables categóricas evaluadas. La columna MES presenta exactamente los doce meses del año, todos en mayúsculas y uniformemente distribuidos con 2080 registros cada uno, lo que indica una codificación homogénea. La variable DEPARTAMENTO contiene únicamente el valor “VALLE DEL CAUCA”, como es esperable dado el enfoque regional del archivo. En la columna MUNICIPIO, aunque hay múltiples valores, no se detectan errores de escritura ni inconsistencias aparentes en los nombres. De igual forma, la columna BIOLÓGICO muestra las diferentes vacunas y esquemas con formatos consistentes, como “POLIO 1ra” o “TRIPLE VIRAL ref 5 años”, sin duplicaciones tipográficas ni variaciones en la nomenclatura. Esto sugiere que el archivo ha sido correctamente estructurado y estandarizado en términos de sus variables categóricas."
   ]
  },
  {
   "cell_type": "markdown",
   "id": "50eb11cb",
   "metadata": {},
   "source": [
    "COMPLETITUD "
   ]
  },
  {
   "cell_type": "code",
   "execution_count": 11,
   "id": "1782ac95",
   "metadata": {},
   "outputs": [
    {
     "name": "stdout",
     "output_type": "stream",
     "text": [
      "\n",
      "Valores nulos por columna:\n",
      "ANO                           0\n",
      "MES                           0\n",
      "CODIGO DEPARTAMENTO           0\n",
      "DEPARTAMENTO                  0\n",
      "CODIGO MUNICIPIO              0\n",
      "MUNICIPIO                     0\n",
      "GRUPO POBLACIONAL             0\n",
      "BIOLOGICO                     0\n",
      "META                          0\n",
      "DOSIS APLICADAS               0\n",
      "COBERTURA                     0\n",
      "DOSIS APLICADAS ACUMULADAS    0\n",
      "COBERTURA ACUMULADA           0\n",
      "dtype: int64\n",
      "\n",
      "Valores vacíos ('') por columna:\n"
     ]
    }
   ],
   "source": [
    "\n",
    "# Revisar valores nulos y vacíos\n",
    "print(\"\\nValores nulos por columna:\")\n",
    "print(df.isnull().sum())\n",
    "\n",
    "print(\"\\nValores vacíos ('') por columna:\")\n",
    "for col in df.columns:\n",
    "    vacios = df[col].astype(str).str.strip().eq('').sum()\n",
    "    if vacios > 0:\n",
    "        print(f\"{col}: {vacios}\")"
   ]
  },
  {
   "cell_type": "markdown",
   "id": "edab9ab8",
   "metadata": {},
   "source": [
    "Este resultado indica que el conjunto de datos está completamente lleno, sin valores nulos ni celdas vacías en ninguna de sus columnas. Todas las variables, tanto categóricas como numéricas, presentan información completa en los 24.960 registros evaluados. "
   ]
  }
 ],
 "metadata": {
  "kernelspec": {
   "display_name": "Python 3",
   "language": "python",
   "name": "python3"
  },
  "language_info": {
   "codemirror_mode": {
    "name": "ipython",
    "version": 3
   },
   "file_extension": ".py",
   "mimetype": "text/x-python",
   "name": "python",
   "nbconvert_exporter": "python",
   "pygments_lexer": "ipython3",
   "version": "3.9.21"
  }
 },
 "nbformat": 4,
 "nbformat_minor": 5
}
