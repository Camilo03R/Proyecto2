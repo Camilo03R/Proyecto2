{
 "cells": [
  {
   "cell_type": "markdown",
   "id": "53c03bbb",
   "metadata": {},
   "source": [
    "Analisis de datos del archivo "
   ]
  },
  {
   "cell_type": "code",
   "execution_count": 79,
   "id": "8114789d",
   "metadata": {},
   "outputs": [],
   "source": [
    "import pandas as pd\n",
    "archivo=\"Datos/Cobertura_Vacunacion_Departamental_2007-2010.xlsx\"\n"
   ]
  },
  {
   "cell_type": "markdown",
   "id": "bc2cfb02",
   "metadata": {},
   "source": [
    "Lectura hoja 2007"
   ]
  },
  {
   "cell_type": "code",
   "execution_count": 29,
   "id": "030ce14e",
   "metadata": {},
   "outputs": [
    {
     "name": "stdout",
     "output_type": "stream",
     "text": [
      "  DEPTOS Unnamed: 0_level_1  Población Menor 1 año  POLIO 3.Dosis  POLIO %  \\\n",
      "0                  AMAZONAS                   2056           1756     85.4   \n",
      "1                 ANTIOQUIA                 102541          88862     86.7   \n",
      "2                    ARAUCA                   6788           5820     85.7   \n",
      "3                 ATLANTICO                  21045          18367     87.3   \n",
      "4              BARRANQUILLA                  22173          26623    120.1   \n",
      "\n",
      "   DPT 3.Dosis  DPT %  BCG U.Dósis  BCG %  HEPATITIS B 3.Dosis  HEPATITIS B %  \\\n",
      "0         1755   85.4         1724   83.9                 1771           86.1   \n",
      "1        89593   87.4        96624   94.2                89395           87.2   \n",
      "2         5875   86.5         5046   74.3                 5875           86.5   \n",
      "3        18365   87.3        15754   74.9                18339           87.1   \n",
      "4        26622  120.1        31809  143.5                26660          120.2   \n",
      "\n",
      "   H.i.B. 3.Dosis  H.i.B. %  Población De 1 año  T.V. U.Dósis  T.V. %  \\\n",
      "0            1755      85.4                2018          1693    83.9   \n",
      "1           89593      87.4              102800         94854    92.3   \n",
      "2            5875      86.5                6897          5593    81.1   \n",
      "3           18365      87.3               21643         18683    86.3   \n",
      "4           26622     120.1               22096         25881   117.1   \n",
      "\n",
      "   FIEBRE AMARILLA U.Dósis  FIEBRE AMARILLA % Fecha Envio  \n",
      "0                     1459               72.3    XII-2007  \n",
      "1                    93715               91.2    XII-2007  \n",
      "2                     5808               84.2    XII-2007  \n",
      "3                    18586               85.9    XII-2007  \n",
      "4                    26357              119.3    XII-2007  \n"
     ]
    }
   ],
   "source": [
    "\n",
    "# Leer hoja específica  y combinar filas 0 y 1 para columnas\n",
    "df2007 = pd.read_excel(archivo, sheet_name=\"2007\", header=[0, 1])\n",
    "\n",
    "# Unir los encabezados múltiples en uno solo \n",
    "df2007.columns = [' '.join(str(e).strip() for e in col if e and str(e).strip()) for col in df2007.columns]\n",
    "\n",
    "# Mostrar las primeras filas\n",
    "print(df2007.head())\n"
   ]
  },
  {
   "cell_type": "markdown",
   "id": "a562938e",
   "metadata": {},
   "source": [
    "Este DataFrame corresponde a la cobertura de vacunación por departamento en Colombia para el año 2007, con cada fila representando un departamento y cada columna asociada a un biológico específico, indicando tanto el número de dosis aplicadas como el porcentaje de cobertura alcanzado. Se incluyen variables demográficas como la población menor de un año y de un año, y biológicos como Polio, DPT, BCG, Hepatitis B, H.i.B., Triple Viral y Fiebre Amarilla, todos con sus respectivas métricas de dosis y porcentaje. También se observa la fecha de corte \"XII-2007\" para todos los registros. "
   ]
  },
  {
   "cell_type": "markdown",
   "id": "114eafeb",
   "metadata": {},
   "source": [
    "Lectura hoja 2008"
   ]
  },
  {
   "cell_type": "code",
   "execution_count": 30,
   "id": "7b8a04b1",
   "metadata": {},
   "outputs": [
    {
     "name": "stdout",
     "output_type": "stream",
     "text": [
      "   Unnamed: 0_level_0 CODEP Unnamed: 1_level_0 DEPARTAMENTOS  \\\n",
      "0                        91                         AMAZONAS   \n",
      "1                         5                        ANTIOQUIA   \n",
      "2                        81                           ARAUCA   \n",
      "3                         8                        ATLANTICO   \n",
      "4                         9                     BARRANQUILLA   \n",
      "5                        11                           BOGOTA   \n",
      "6                        13                          BOLIVAR   \n",
      "7                        14                        CARTAGENA   \n",
      "8                        15                           BOYACA   \n",
      "9                        17                           CALDAS   \n",
      "\n",
      "   Población Menor 1 año  POLIO 3.Dosis  POLIO %  DPT 3.Dosis  DPT %  \\\n",
      "0                   2140           1657     77.4         1657   77.4   \n",
      "1                 102748          85158     82.9        85375   83.1   \n",
      "2                   6686           5150     77.0         5153   77.1   \n",
      "3                  22234          20430     91.9        20431   91.9   \n",
      "4                  20639          22000    106.6        22044  106.8   \n",
      "5                 118677         114688     96.6       114632   96.6   \n",
      "6                  24404          19966     81.8        20038   82.1   \n",
      "7                  17315          22344    129.0        21711  125.4   \n",
      "8                  23736          21299     89.7        21302   89.7   \n",
      "9                  16867          13467     79.8        13617   80.7   \n",
      "\n",
      "   BCG U.Dósis  BCG %  HEPATITIS B 3.Dosis  HEPATITIS B %  H.i.B. 3.Dosis  \\\n",
      "0         1761   82.3                 1657           77.4            1657   \n",
      "1        93578   91.1                85182           82.9           85465   \n",
      "2         4705   70.4                 5266           78.8            5153   \n",
      "3        20168   90.7                20431           91.9           20431   \n",
      "4        27747  134.4                22060          106.9           22044   \n",
      "5       116371   98.1               114566           96.5          114632   \n",
      "6        18564   76.1                20106           82.4           20038   \n",
      "7        23543  136.0                21720          125.4           21711   \n",
      "8        19963   84.1                21302           89.7           21302   \n",
      "9        11328   67.2                13631           80.8           13393   \n",
      "\n",
      "   H.i.B. %  Población De 1 año  T.V. U.Dósis  T.V. %  \\\n",
      "0      77.4                2105          1613    76.6   \n",
      "1      83.2              102781         91483    89.0   \n",
      "2      77.1                6777          5311    78.4   \n",
      "3      91.9               22399         20017    89.4   \n",
      "4     106.8               20932         21557   103.0   \n",
      "5      96.6              118141        115129    97.5   \n",
      "6      82.1               24110         19103    79.2   \n",
      "7     125.4               17425         22885   131.3   \n",
      "8      89.7               24110         21017    87.2   \n",
      "9      79.4               16850         13994    83.1   \n",
      "\n",
      "   FIEBRE AMARILLA U.Dósis  FIEBRE AMARILLA %  \n",
      "0                     1607               76.3  \n",
      "1                    85841               83.5  \n",
      "2                     5311               78.4  \n",
      "3                    19453               86.8  \n",
      "4                    21025              100.4  \n",
      "5                    87437               74.0  \n",
      "6                    13615               56.5  \n",
      "7                    17705              101.6  \n",
      "8                    20039               83.1  \n",
      "9                    11220               66.6  \n"
     ]
    }
   ],
   "source": [
    "# Leer hoja específica  y combinar filas 0 y 1 para columnas\n",
    "df2008 = pd.read_excel(archivo, sheet_name=\"2008\", header=[0, 1])\n",
    "\n",
    "# Unir los encabezados múltiples en uno solo \n",
    "df2008.columns = [' '.join(str(e).strip() for e in col if e and str(e).strip()) for col in df2008.columns]\n",
    "\n",
    "# Mostrar las primeras filas\n",
    "print(df2008.head(10))"
   ]
  },
  {
   "cell_type": "markdown",
   "id": "1f5bca90",
   "metadata": {},
   "source": [
    "Esta hoja representa los datos de cobertura de vacunación para el año 2008 a nivel departamental en Colombia. Cada fila corresponde a un departamento identificado por un código (CODEP) y nombre (DEPARTAMENTOS), e incluye columnas que detallan el número de niños menores de un año (Población Menor 1 año), seguido de múltiples indicadores de vacunación como las dosis aplicadas de biológicos por ejemplo, POLIO 3.Dosis, DPT 3.Dosis, BCG U.Dósis, etc. junto con su respectivo porcentaje de cobertura POLIO %, DPT %, BCG %, etc. También se incluye información de otros biológicos como Hepatitis B y H.i.B. "
   ]
  },
  {
   "cell_type": "markdown",
   "id": "f2f5d990",
   "metadata": {},
   "source": [
    "Lectura hoja 2009"
   ]
  },
  {
   "cell_type": "code",
   "execution_count": 33,
   "id": "665468ed",
   "metadata": {},
   "outputs": [
    {
     "name": "stdout",
     "output_type": "stream",
     "text": [
      "   CODEP DEPARTAMENTOS  Población\\nMenor 1 año  \\\n",
      "0     91      AMAZONAS                    2107   \n",
      "1      5     ANTIOQUIA                  103161   \n",
      "2     81        ARAUCA                    6627   \n",
      "3      8     ATLANTICO                   22323   \n",
      "4   8001  BARRANQUILLA                   20345   \n",
      "\n",
      "   VOP <DE1 AÑO 3ras + VIP <1AÑO 3as Dosis  % VOP 3ras  \\\n",
      "0                                     1559        74.0   \n",
      "1                                    85444        82.8   \n",
      "2                                     4906        74.0   \n",
      "3                                    22235        99.6   \n",
      "4                                    22737       111.8   \n",
      "\n",
      "   DPT MENOR DE UN AÑO 3ras. Dosis  % DPT 3ras  \\\n",
      "0                             1564        74.2   \n",
      "1                            85729        83.1   \n",
      "2                             4903        74.0   \n",
      "3                            22234        99.6   \n",
      "4                            23004       113.1   \n",
      "\n",
      "   BCG RECIEN NACIDO (HASTA 28 DÍAS) + MENOR UN AÑO (29 DÍAS A 11 MESES 29 DIAS)\\nDosis Unica  \\\n",
      "0                                               1681                                            \n",
      "1                                              87735                                            \n",
      "2                                               4706                                            \n",
      "3                                              21564                                            \n",
      "4                                              27280                                            \n",
      "\n",
      "   % BCG  \\\n",
      "0   79.8   \n",
      "1   85.0   \n",
      "2   71.0   \n",
      "3   96.6   \n",
      "4  134.1   \n",
      "\n",
      "   HB MENOR DE UN AÑO + (HB < 1 AÑO (ÚNICAMENTE CUANDO NO SE PUEDE COLOCAR PENTAVALENTE POR REACCION A LA DPT) 3ras Dosis  \\\n",
      "0                                               1565                                                                        \n",
      "1                                              85312                                                                        \n",
      "2                                               4927                                                                        \n",
      "3                                              22234                                                                        \n",
      "4                                              23004                                                                        \n",
      "\n",
      "   ...  ROTAVIRUS DE 2 A 7 MESES 29 DIAS\\n2da Dosis  % Rota 2da Dosis  \\\n",
      "0  ...                                          987              70.3   \n",
      "1  ...                                        59758              86.9   \n",
      "2  ...                                         3114              70.5   \n",
      "3  ...                                         8883              59.7   \n",
      "4  ...                                        12911              95.2   \n",
      "\n",
      "   Neumo de (12 meses)\\n3ra Dosis  % Neumo de (12 meses)\\n3ra dosis  \\\n",
      "0                              70                          3.322259   \n",
      "1                            7374                          7.148050   \n",
      "2                              62                          0.935567   \n",
      "3                             440                          1.971061   \n",
      "4                             676                          3.322684   \n",
      "\n",
      "   Neumo de (12-23 meses) 2da Dosis  % Neumo de (12-23 meses)  \\\n",
      "0                                 2                  0.096805   \n",
      "1                              3538                  3.434951   \n",
      "2                               436                  6.499702   \n",
      "3                                86                  0.383073   \n",
      "4                               164                  0.795383   \n",
      "\n",
      "   Neumo de (24- 35 Meses) Dosis Unica  % Neumo de (24- 35 Meses)  \\\n",
      "0                                    0                   0.000000   \n",
      "1                                 2451                   2.379612   \n",
      "2                                  471                   7.021467   \n",
      "3                                   41                   0.182628   \n",
      "4                                  168                   0.814782   \n",
      "\n",
      "   Unnamed: 26   Unnamed: 27  \n",
      "0        12609   1404.666667  \n",
      "1       694805  68774.000000  \n",
      "2        38777   4418.000000  \n",
      "3       164700  14882.000000  \n",
      "4       178074  13563.333333  \n",
      "\n",
      "[5 rows x 28 columns]\n"
     ]
    }
   ],
   "source": [
    "\n",
    "df2009 = pd.read_excel(archivo, sheet_name=\"2009\", header=0)\n",
    "print(df2009.head())"
   ]
  },
  {
   "cell_type": "markdown",
   "id": "1bf8dce6",
   "metadata": {},
   "source": [
    "La hoja correspondiente al año 2009 contiene datos departamentales sobre cobertura de vacunación en Colombia. Cada fila representa un departamento y empieza con los identificadores CODEP y DEPARTAMENTOS, seguidos por la población objetivo por ejemplo, Población\\nMenor 1 año. Se registran cantidades de dosis aplicadas para diferentes biológicos como VOP, DPT, BCG, HB, y ROTAVIRUS, así como los porcentajes de cobertura correspondientes, por ejemplo, % VOP 3ras, % DPT 3ras, % BCG. Las columnas tienen encabezados extensos, algunos con saltos de línea o paréntesis que deben limpiarse para facilitar el análisis. "
   ]
  },
  {
   "cell_type": "markdown",
   "id": "214546df",
   "metadata": {},
   "source": [
    "Lectura hoja 2010"
   ]
  },
  {
   "cell_type": "code",
   "execution_count": 32,
   "id": "1659f10c",
   "metadata": {},
   "outputs": [
    {
     "name": "stdout",
     "output_type": "stream",
     "text": [
      "    CODEP DEPARTAMENTOS Población\\nMenor 1 año  \\\n",
      "0    91.0      AMAZONAS                   2119   \n",
      "1     5.0     ANTIOQUIA                 103154   \n",
      "2    81.0        ARAUCA                   6611   \n",
      "3     8.0     ATLANTICO                  22306   \n",
      "4  8001.0  BARRANQUILLA                  20244   \n",
      "\n",
      "   VOP <DE1 AÑO 3ras + VIP <1AÑO 3as Dosis  % VOP 3ras  \\\n",
      "0                                   1666.0        78.6   \n",
      "1                                  79374.0        76.9   \n",
      "2                                   5267.0        79.7   \n",
      "3                                  16945.0        76.0   \n",
      "4                                  19752.0        97.6   \n",
      "\n",
      "   DPT MENOR DE UN AÑO 3ras. Dosis  % DPT 3ras  \\\n",
      "0                           1666.0        78.6   \n",
      "1                          79500.0        77.1   \n",
      "2                           5266.0        79.7   \n",
      "3                          16941.0        75.9   \n",
      "4                          19982.0        98.7   \n",
      "\n",
      "   BCG RECIEN NACIDO (HASTA 28 DÍAS) + MENOR UN AÑO (29 DÍAS A 11 MESES 29 DIAS)\\nDosis Unica  \\\n",
      "0                                             1682.0                                            \n",
      "1                                            78660.0                                            \n",
      "2                                             4218.0                                            \n",
      "3                                            12206.0                                            \n",
      "4                                            23502.0                                            \n",
      "\n",
      "   % BCG  \\\n",
      "0   79.4   \n",
      "1   76.3   \n",
      "2   63.8   \n",
      "3   54.7   \n",
      "4  116.1   \n",
      "\n",
      "   HB MENOR DE UN AÑO + (HB < 1 AÑO (ÚNICAMENTE CUANDO NO SE PUEDE COLOCAR PENTAVALENTE POR REACCION A LA DPT) 3ras Dosis  \\\n",
      "0                                             1666.0                                                                        \n",
      "1                                            79074.0                                                                        \n",
      "2                                             5266.0                                                                        \n",
      "3                                            16941.0                                                                        \n",
      "4                                            19990.0                                                                        \n",
      "\n",
      "   ...  VOP 5 AÑOS\\n2do. Ref.  % VOP\\n2do Ref.  DPT 5 AÑOS\\n2do. Ref.  \\\n",
      "0  ...                 1635.0             85.9                 1633.0   \n",
      "1  ...                84382.0             81.7                    1.0   \n",
      "2  ...                 4425.0             65.6                 4592.0   \n",
      "3  ...                16591.0             71.3                16733.0   \n",
      "4  ...                13148.0             63.6                13716.0   \n",
      "\n",
      "   % DPT\\n2do Ref.  SRP (T.V.) 5 AÑOS Ref.  % T.V.\\nRef. 5 AÑOS  \\\n",
      "0             85.8                  1630.0                 85.6   \n",
      "1              0.0                 82925.0                 80.3   \n",
      "2             68.1                  4602.0                 68.2   \n",
      "3             71.9                 16376.0                 70.4   \n",
      "4             66.4                 13097.0                 63.4   \n",
      "\n",
      "   FLU DE 50 Y MAS AÑOS ÚNICA  Unnamed: 37  Unnamed: 38  Unnamed: 39  \n",
      "0                       617.0       1904.0          NaN       2107.0  \n",
      "1                     65775.0     103288.0          NaN     103161.0  \n",
      "2                      2820.0       6746.0          NaN       6627.0  \n",
      "3                      6625.0      23266.0          NaN      22323.0  \n",
      "4                     11596.0      20657.0          NaN      20345.0  \n",
      "\n",
      "[5 rows x 40 columns]\n"
     ]
    }
   ],
   "source": [
    "\n",
    "df2010 = pd.read_excel(archivo, sheet_name=\"2010\")\n",
    "\n",
    "print(df2010.head())"
   ]
  },
  {
   "cell_type": "markdown",
   "id": "3e9fe9dd",
   "metadata": {},
   "source": [
    "La hoja del año 2010 presenta datos por departamento sobre población menor de un año, dosis aplicadas de varias vacunas y sus porcentajes de cobertura. Incluye biológicos como VOP, DPT, BCG, Hepatitis B y otros. Algunas columnas tienen valores nulos y CODEP aparece como decimal, lo que sugiere que se debe ajustar el tipo de dato para análisis posterior."
   ]
  },
  {
   "cell_type": "markdown",
   "id": "cfc5763b",
   "metadata": {},
   "source": [
    "Tipos de Variables"
   ]
  },
  {
   "cell_type": "code",
   "execution_count": 42,
   "id": "3a60aa83",
   "metadata": {},
   "outputs": [
    {
     "name": "stdout",
     "output_type": "stream",
     "text": [
      "Tipos de variables - Hoja 2007 \n",
      "int64      9\n",
      "float64    7\n",
      "object     2\n",
      "dtype: int64\n",
      "\n",
      "Tipos de variables - Hoja 2008 \n",
      "int64      10\n",
      "float64     7\n",
      "object      1\n",
      "dtype: int64\n",
      "\\ Tipos de variables - Hoja 2009 \n",
      "int64      15\n",
      "float64    12\n",
      "object      1\n",
      "dtype: int64\n",
      "\n",
      " Tipos de variables - Hoja 2010 \n",
      "float64    38\n",
      "object      2\n",
      "dtype: int64\n"
     ]
    }
   ],
   "source": [
    "#Tipos de variables - Hoja 2007 \n",
    "print(\"Tipos de variables - Hoja 2007 \")\n",
    "print(df2007.dtypes.value_counts())\n",
    "\n",
    "\n",
    "# Tipos de variables - Hoja 2008 \n",
    "print(\"\\nTipos de variables - Hoja 2008 \")\n",
    "print(df2008.dtypes.value_counts())\n",
    "\n",
    "\n",
    "# Tipos de variables - Hoja 2009 \n",
    "print(\"\\ Tipos de variables - Hoja 2009 \")\n",
    "print(df2009.dtypes.value_counts())\n",
    "\n",
    "# Tipos de variables - Hoja 2010\n",
    "print(\"\\n Tipos de variables - Hoja 2010 \")\n",
    "print(df2010.dtypes.value_counts())\n",
    "\n"
   ]
  },
  {
   "cell_type": "markdown",
   "id": "88f89097",
   "metadata": {},
   "source": [
    "Hoja 2007:\n",
    "Se identificaron 9 columnas enteras (int64), 7 decimales (float64) y 2 categóricas (object), lo que indica una estructura equilibrada entre datos numéricos y pocos campos de texto.\n",
    "\n",
    "Hoja 2008:\n",
    "Contiene 10 columnas tipo int64, 7 tipo float64 y solo 1 categórica, lo que refleja un leve aumento en variables numéricas y una estructura aún mayormente cuantitativa.\n",
    "\n",
    "Hoja 2009:\n",
    "Tiene mas varibles 15 enteras y 12 decimales, con solo 1 categórica, lo que sugiere una expansión de indicadores o registros numéricos.\n",
    "\n",
    "Hoja 2010:\n",
    " todas las variables numéricas se registran como float64 38 en total, lo cual podría deberse a la lectura de decimales; solo hay 2 variables categóricas.\n"
   ]
  },
  {
   "cell_type": "markdown",
   "id": "975ea94a",
   "metadata": {},
   "source": [
    "Unicidad"
   ]
  },
  {
   "cell_type": "markdown",
   "id": "f2c49be5",
   "metadata": {},
   "source": [
    "Hoja 2007"
   ]
  },
  {
   "cell_type": "code",
   "execution_count": 44,
   "id": "e1b98c0f",
   "metadata": {},
   "outputs": [
    {
     "name": "stdout",
     "output_type": "stream",
     "text": [
      "['DEPTOS Unnamed: 0_level_1', 'Población Menor 1 año', 'POLIO 3.Dosis', 'POLIO %', 'DPT 3.Dosis', 'DPT %', 'BCG U.Dósis', 'BCG %', 'HEPATITIS B 3.Dosis', 'HEPATITIS B %', 'H.i.B. 3.Dosis', 'H.i.B. %', 'Población De 1 año', 'T.V. U.Dósis', 'T.V. %', 'FIEBRE AMARILLA U.Dósis', 'FIEBRE AMARILLA %', 'Fecha Envio']\n"
     ]
    }
   ],
   "source": [
    "print(df2007.columns.tolist())"
   ]
  },
  {
   "cell_type": "code",
   "execution_count": 45,
   "id": "4e9308c4",
   "metadata": {},
   "outputs": [
    {
     "name": "stdout",
     "output_type": "stream",
     "text": [
      "Filas duplicadas por claves (DEPTOS + Fecha Envio): 0\n"
     ]
    }
   ],
   "source": [
    "columnas_clave = ['DEPTOS Unnamed: 0_level_1', 'Fecha Envio']\n",
    "duplicados_clave = df2007.duplicated(subset=columnas_clave).sum()\n",
    "print(f\"Filas duplicadas por claves (DEPTOS + Fecha Envio): {duplicados_clave}\")\n",
    "\n"
   ]
  },
  {
   "cell_type": "markdown",
   "id": "cbaf4171",
   "metadata": {},
   "source": [
    "Se verificó la unicidad de los registros en la hoja 2007 usando como claves combinadas las columnas DEPTOS Unnamed: 0_level_1 y Fecha Envio, y no se encontraron filas duplicadas, lo que indica que cada combinación de departamento y fecha es única. "
   ]
  },
  {
   "cell_type": "markdown",
   "id": "09d44e41",
   "metadata": {},
   "source": [
    "Hoja 2008"
   ]
  },
  {
   "cell_type": "code",
   "execution_count": 46,
   "id": "edcc8510",
   "metadata": {},
   "outputs": [
    {
     "name": "stdout",
     "output_type": "stream",
     "text": [
      "['Unnamed: 0_level_0 CODEP', 'Unnamed: 1_level_0 DEPARTAMENTOS', 'Población Menor 1 año', 'POLIO 3.Dosis', 'POLIO %', 'DPT 3.Dosis', 'DPT %', 'BCG U.Dósis', 'BCG %', 'HEPATITIS B 3.Dosis', 'HEPATITIS B %', 'H.i.B. 3.Dosis', 'H.i.B. %', 'Población De 1 año', 'T.V. U.Dósis', 'T.V. %', 'FIEBRE AMARILLA U.Dósis', 'FIEBRE AMARILLA %']\n"
     ]
    }
   ],
   "source": [
    "print(df2008.columns.tolist())"
   ]
  },
  {
   "cell_type": "code",
   "execution_count": 47,
   "id": "7ef06f15",
   "metadata": {},
   "outputs": [
    {
     "name": "stdout",
     "output_type": "stream",
     "text": [
      "Filas duplicadas por claves (CODEP + DEPARTAMENTOS): 0\n"
     ]
    }
   ],
   "source": [
    "columnas_clave = ['Unnamed: 0_level_0 CODEP', 'Unnamed: 1_level_0 DEPARTAMENTOS']\n",
    "duplicados_clave = df2008.duplicated(subset=columnas_clave).sum()\n",
    "print(f\"Filas duplicadas por claves (CODEP + DEPARTAMENTOS): {duplicados_clave}\")\n"
   ]
  },
  {
   "cell_type": "markdown",
   "id": "0e79eae6",
   "metadata": {},
   "source": [
    "En la hoja correspondiente al año 2008, no se encontraron registros duplicados en la combinación de columnas CODEP y DEPARTAMENTOS, lo que indica que cada fila representa una observación única para esa combinación."
   ]
  },
  {
   "cell_type": "markdown",
   "id": "f6bedf2e",
   "metadata": {},
   "source": [
    "Hoja 2009"
   ]
  },
  {
   "cell_type": "code",
   "execution_count": 48,
   "id": "f06f535a",
   "metadata": {},
   "outputs": [
    {
     "name": "stdout",
     "output_type": "stream",
     "text": [
      "Index(['CODEP', 'DEPARTAMENTOS', 'Población\\nMenor 1 año',\n",
      "       'VOP <DE1 AÑO 3ras + VIP <1AÑO 3as Dosis', '% VOP 3ras',\n",
      "       'DPT MENOR DE UN AÑO 3ras. Dosis', '% DPT 3ras',\n",
      "       'BCG RECIEN NACIDO (HASTA 28 DÍAS) + MENOR UN AÑO (29 DÍAS A 11 MESES 29 DIAS)\\nDosis Unica',\n",
      "       '% BCG',\n",
      "       'HB MENOR DE UN AÑO + (HB < 1 AÑO (ÚNICAMENTE CUANDO NO SE PUEDE COLOCAR PENTAVALENTE POR REACCION A LA DPT) 3ras Dosis',\n",
      "       '% Hepatitis B', 'Hib MENOR DE UN AÑO\\n3ra.Dosis', '% Hib',\n",
      "       'Población \\nDe 1 año', 'SRP (T.V.) DE UN AÑO\\nU.Dósis', '%TV',\n",
      "       'F.A. 1 AÑO\\nU. Dósis', '%F.A.',\n",
      "       'ROTAVIRUS DE 2 A 7 MESES 29 DIAS\\n2da Dosis', '% Rota 2da Dosis',\n",
      "       'Neumo de (12 meses)\\n3ra Dosis', '% Neumo de (12 meses)\\n3ra dosis',\n",
      "       'Neumo de (12-23 meses) 2da Dosis', '% Neumo de (12-23 meses)',\n",
      "       'Neumo de (24- 35 Meses) Dosis Unica', '% Neumo de (24- 35 Meses)',\n",
      "       'Unnamed: 26', 'Unnamed: 27'],\n",
      "      dtype='object')\n"
     ]
    }
   ],
   "source": [
    "print(df2009.columns)"
   ]
  },
  {
   "cell_type": "code",
   "execution_count": 49,
   "id": "6feaa1de",
   "metadata": {},
   "outputs": [
    {
     "name": "stdout",
     "output_type": "stream",
     "text": [
      "Filas duplicadas por claves (CODEP + DEPARTAMENTOS): 0\n"
     ]
    }
   ],
   "source": [
    "columnas_clave = ['CODEP', 'DEPARTAMENTOS']\n",
    "duplicados_clave = df2009.duplicated(subset=columnas_clave).sum()\n",
    "print(f\"Filas duplicadas por claves (CODEP + DEPARTAMENTOS): {duplicados_clave}\")\n"
   ]
  },
  {
   "cell_type": "markdown",
   "id": "7f8ece0f",
   "metadata": {},
   "source": [
    "En la hoja correspondiente al año 2009, no se encontraron registros duplicados en la combinación de columnas CODEP y DEPARTAMENTOS, lo que indica que cada fila representa una observación única para esa combinación."
   ]
  },
  {
   "cell_type": "markdown",
   "id": "57f24baf",
   "metadata": {},
   "source": [
    "Hoja 2010"
   ]
  },
  {
   "cell_type": "code",
   "execution_count": 50,
   "id": "e7f305a2",
   "metadata": {},
   "outputs": [
    {
     "name": "stdout",
     "output_type": "stream",
     "text": [
      "Index(['CODEP', 'DEPARTAMENTOS', 'Población\\nMenor 1 año',\n",
      "       'VOP <DE1 AÑO 3ras + VIP <1AÑO 3as Dosis', '% VOP 3ras',\n",
      "       'DPT MENOR DE UN AÑO 3ras. Dosis', '% DPT 3ras',\n",
      "       'BCG RECIEN NACIDO (HASTA 28 DÍAS) + MENOR UN AÑO (29 DÍAS A 11 MESES 29 DIAS)\\nDosis Unica',\n",
      "       '% BCG',\n",
      "       'HB MENOR DE UN AÑO + (HB < 1 AÑO (ÚNICAMENTE CUANDO NO SE PUEDE COLOCAR PENTAVALENTE POR REACCION A LA DPT) 3ras Dosis',\n",
      "       '% Hepatitis B', 'Hib MENOR DE UN AÑO\\n3ra.Dosis', '% Hib',\n",
      "       'ROTAVIRUS DE 2 A 7 MESES 29 DIAS\\n2da Dosis', '% Rota 2da Dosis',\n",
      "       'Población \\nDe 1 año', 'SRP (T.V.) DE UN AÑO\\nU.Dósis', '%TV',\n",
      "       'F.A. 1 AÑO\\nU. Dósis', '%F.A.',\n",
      "       'Neumo de (11 Meses 29 Dias)\\n2da Dosis',\n",
      "       '% Neumo de (11 Meses 29 Dias)\\n2ra dosis',\n",
      "       'Neumo de (12 meses)\\n3ra Dosis', '% Neumo de (12 meses)\\n3ra dosis',\n",
      "       'Neumo de (12-23 meses) 2da Dosis',\n",
      "       'Neumo de (24- 35 Meses) Dosis Unica',\n",
      "       'VOP al año de la 3ra Dosis\\n1er. Ref.', '% VOP\\n1er Ref.',\n",
      "       'DPT Al año de la 3ra Dosis\\n1er. Ref.', '% DPT\\n1er Ref.',\n",
      "       'VOP 5 AÑOS\\n2do. Ref.', '% VOP\\n2do Ref.', 'DPT 5 AÑOS\\n2do. Ref.',\n",
      "       '% DPT\\n2do Ref.', 'SRP (T.V.) 5 AÑOS Ref.', '% T.V.\\nRef. 5 AÑOS',\n",
      "       'FLU DE 50 Y MAS AÑOS ÚNICA', 'Unnamed: 37', 'Unnamed: 38',\n",
      "       'Unnamed: 39'],\n",
      "      dtype='object')\n"
     ]
    }
   ],
   "source": [
    "print(df2010.columns)"
   ]
  },
  {
   "cell_type": "code",
   "execution_count": 51,
   "id": "0d4eaf42",
   "metadata": {},
   "outputs": [
    {
     "name": "stdout",
     "output_type": "stream",
     "text": [
      "Filas duplicadas por claves (CODEP + DEPARTAMENTOS): 25\n"
     ]
    }
   ],
   "source": [
    "columnas_clave = ['CODEP', 'DEPARTAMENTOS']\n",
    "duplicados_clave = df2010.duplicated(subset=columnas_clave).sum()\n",
    "print(f\"Filas duplicadas por claves (CODEP + DEPARTAMENTOS): {duplicados_clave}\")\n"
   ]
  },
  {
   "cell_type": "markdown",
   "id": "a68182f8",
   "metadata": {},
   "source": [
    "En la hoja 2010, se identificaron 25 filas duplicadas respecto a la combinación de columnas clave CODEP y DEPARTAMENTOS. Esto imdica que, para algunos departamentos, hay múltiples registros con el mismo código, lo que indica registros repetidos. "
   ]
  },
  {
   "cell_type": "markdown",
   "id": "3b6cb719",
   "metadata": {},
   "source": [
    "Validez"
   ]
  },
  {
   "cell_type": "code",
   "execution_count": 53,
   "id": "9bbeb5e4",
   "metadata": {},
   "outputs": [
    {
     "name": "stdout",
     "output_type": "stream",
     "text": [
      "Valores fuera de [0,100] en hoja 2007:\n",
      "POLIO %: 9\n",
      "DPT %: 9\n",
      "BCG %: 8\n",
      "HEPATITIS B %: 10\n",
      "H.i.B. %: 9\n",
      "T.V. %: 11\n",
      "FIEBRE AMARILLA %: 7\n"
     ]
    }
   ],
   "source": [
    "# ===== VALIDEZ HOJA 2007 =====\n",
    "columnas_2007 = ['POLIO %', 'DPT %', 'BCG %', 'HEPATITIS B %', 'H.i.B. %', 'T.V. %', 'FIEBRE AMARILLA %']\n",
    "for col in columnas_2007:\n",
    "    df2007[col] = pd.to_numeric(df2007[col], errors='coerce')\n",
    "print(\"Valores fuera de [0,100] en hoja 2007:\")\n",
    "for col in columnas_2007:\n",
    "    fuera = df2007[(df2007[col] < 0) | (df2007[col] > 100)][col].count()\n",
    "    print(f\"{col}: {fuera}\")\n",
    "\n",
    "\n",
    "\n"
   ]
  },
  {
   "cell_type": "markdown",
   "id": "9dea4346",
   "metadata": {},
   "source": [
    "En la hoja de datos correspondiente al año 2007, se evaluó la validez de las columnas porcentuales para asegurar que sus valores estén dentro del rango lógico de 0 a 100. El análisis identificó valores fuera de este rango en todas las variables evaluadas, siendo las más afectadas “T.V. %” con 11 registros inválidos y “HEPATITIS B %” con 10 casos. Este hallazgo sugiere la presencia de errores en el ingreso de datos o inconsistencias en el reporte que deben ser corregidas para asegurar la integridad del análisis posterior."
   ]
  },
  {
   "cell_type": "code",
   "execution_count": 54,
   "id": "34a35ffc",
   "metadata": {},
   "outputs": [
    {
     "name": "stdout",
     "output_type": "stream",
     "text": [
      "\n",
      "Valores fuera de [0,100] en hoja 2008:\n",
      "POLIO %: 5\n",
      "DPT %: 5\n",
      "BCG %: 8\n",
      "HEPATITIS B %: 5\n",
      "H.i.B. %: 5\n",
      "T.V. %: 4\n",
      "FIEBRE AMARILLA %: 2\n"
     ]
    }
   ],
   "source": [
    "# ===== VALIDEZ HOJA 2008 =====\n",
    "columnas_2008 = ['POLIO %', 'DPT %', 'BCG %', 'HEPATITIS B %', 'H.i.B. %', 'T.V. %', 'FIEBRE AMARILLA %']\n",
    "for col in columnas_2008:\n",
    "    df2008[col] = pd.to_numeric(df2008[col], errors='coerce')\n",
    "print(\"\\nValores fuera de [0,100] en hoja 2008:\")\n",
    "for col in columnas_2008:\n",
    "    fuera = df2008[(df2008[col] < 0) | (df2008[col] > 100)][col].count()\n",
    "    print(f\"{col}: {fuera}\")\n",
    "\n"
   ]
  },
  {
   "cell_type": "markdown",
   "id": "d2a451fc",
   "metadata": {},
   "source": [
    "En la hoja correspondiente al año 2008 se identificaron valores fuera del rango [0,100] en todas las variables de porcentaje evaluadas. Las columnas con mayor cantidad de datos anómalos fueron \"BCG %\" con 8 registros, \"POLIO %\", \"DPT %\" con 5 y HEPATITIS B % con 5 registros cada una."
   ]
  },
  {
   "cell_type": "code",
   "execution_count": 55,
   "id": "2629ee83",
   "metadata": {},
   "outputs": [
    {
     "name": "stdout",
     "output_type": "stream",
     "text": [
      "\n",
      "Valores fuera de [0,100] en hoja 2009:\n",
      "% VOP 3ras: 5\n",
      "% DPT 3ras: 5\n",
      "% BCG: 5\n",
      "% Hepatitis B: 5\n",
      "% Hib: 5\n",
      "%TV: 9\n",
      "%F.A.: 10\n",
      "% Rota 2da Dosis: 2\n",
      "% Neumo de (12 meses)\n",
      "3ra dosis: 0\n",
      "% Neumo de (12-23 meses): 0\n"
     ]
    }
   ],
   "source": [
    "# ===== VALIDEZ HOJA 2009 =====\n",
    "columnas_2009 = ['% VOP 3ras', '% DPT 3ras', '% BCG', '% Hepatitis B', '% Hib', '%TV', '%F.A.', \n",
    "                 '% Rota 2da Dosis', '% Neumo de (12 meses)\\n3ra dosis', '% Neumo de (12-23 meses)']\n",
    "for col in columnas_2009:\n",
    "    df2009[col] = pd.to_numeric(df2009[col], errors='coerce')\n",
    "print(\"\\nValores fuera de [0,100] en hoja 2009:\")\n",
    "for col in columnas_2009:\n",
    "    fuera = df2009[(df2009[col] < 0) | (df2009[col] > 100)][col].count()\n",
    "    print(f\"{col}: {fuera}\")\n",
    "\n",
    "\n"
   ]
  },
  {
   "cell_type": "markdown",
   "id": "c4c182b4",
   "metadata": {},
   "source": [
    "En la hoja 2009 se encontraron valores fuera del rango aceptable [0,100] en varias columnas porcentuales. Se destacan \"% F.A.\" con 10 registros anómalos y \"% Hib\" con 9 casos. Otras columnas como \"% Rota 2da Dosis\", \"% Neumo de (12 meses)\" y su correspondiente \"3ra dosis\" también presentaron inconsistencias menores. En contraste, \"% Neumo de (12–23 meses)\" no mostró errores. "
   ]
  },
  {
   "cell_type": "code",
   "execution_count": 56,
   "id": "74f0d716",
   "metadata": {},
   "outputs": [
    {
     "name": "stdout",
     "output_type": "stream",
     "text": [
      "\n",
      "Valores fuera de [0,100] en hoja 2010:\n",
      "% VOP 3ras: 2\n",
      "% DPT 3ras: 2\n",
      "% BCG: 5\n",
      "% Hepatitis B: 2\n",
      "% Hib: 2\n",
      "% Rota 2da Dosis: 0\n",
      "%TV: 3\n",
      "%F.A.: 2\n",
      "% Neumo de (11 Meses 29 Dias)\n",
      "2ra dosis: 1\n",
      "% Neumo de (12 meses)\n",
      "3ra dosis: 0\n",
      "% DPT\n",
      "1er Ref.: 2\n",
      "% VOP\n",
      "1er Ref.: 2\n",
      "% DPT\n",
      "2do Ref.: 0\n",
      "% VOP\n",
      "2do Ref.: 0\n",
      "% T.V.\n",
      "Ref. 5 AÑOS: 0\n"
     ]
    }
   ],
   "source": [
    "# ===== VALIDEZ HOJA 2010 =====\n",
    "columnas_2010 = ['% VOP 3ras', '% DPT 3ras', '% BCG', '% Hepatitis B', '% Hib', '% Rota 2da Dosis',\n",
    "                 '%TV', '%F.A.', '% Neumo de (11 Meses 29 Dias)\\n2ra dosis', \n",
    "                 '% Neumo de (12 meses)\\n3ra dosis', '% DPT\\n1er Ref.', '% VOP\\n1er Ref.',\n",
    "                 '% DPT\\n2do Ref.', '% VOP\\n2do Ref.', '% T.V.\\nRef. 5 AÑOS']\n",
    "for col in columnas_2010:\n",
    "    df2010[col] = pd.to_numeric(df2010[col], errors='coerce')\n",
    "print(\"\\nValores fuera de [0,100] en hoja 2010:\")\n",
    "for col in columnas_2010:\n",
    "    fuera = df2010[(df2010[col] < 0) | (df2010[col] > 100)][col].count()\n",
    "    print(f\"{col}: {fuera}\")"
   ]
  },
  {
   "cell_type": "markdown",
   "id": "ddce4bc7",
   "metadata": {},
   "source": [
    "La validación de rangos en la hoja 2010 evidenció varios registros porcentuales fuera del intervalo permitido [0,100]. Las variables con mayor número de inconsistencias fueron \"% BCG\" (5 casos) y \"% TV\" (3 casos), seguidas de otras como \"% VOP 3ras\", \"% DPT 3ras\" y \"% Hepatitis B\" con 2 registros fuera de rango cada una. En cambio, varias variables asociadas a refuerzos y segundas dosis no presentaron errores."
   ]
  },
  {
   "cell_type": "markdown",
   "id": "8c719036",
   "metadata": {},
   "source": [
    "CONSISTENCIA "
   ]
  },
  {
   "cell_type": "code",
   "execution_count": null,
   "id": "5b673960",
   "metadata": {},
   "outputs": [
    {
     "name": "stdout",
     "output_type": "stream",
     "text": [
      "\n",
      "=== Consistencia Hoja 2007 ===\n",
      "\n",
      "Columna: DEPTOS Unnamed: 0_level_1\n",
      "AMAZONAS              1\n",
      "ANTIOQUIA             1\n",
      "LA GUAJIRA            1\n",
      "MAGDALENA             1\n",
      "SANTA MARTA           1\n",
      "META                  1\n",
      "NARIÑO                1\n",
      "NORTE DE SANTANDER    1\n",
      "PUTUMAYO              1\n",
      "QUINDIO               1\n",
      "RISARALDA             1\n",
      "SAN ANDRES            1\n",
      "SANTANDER             1\n",
      "SUCRE                 1\n",
      "TOLIMA                1\n",
      "VALLE                 1\n",
      "VAUPES                1\n",
      "HUILA                 1\n",
      "GUAVIARE              1\n",
      "GUAINIA               1\n",
      "BOYACA                1\n",
      "ARAUCA                1\n",
      "ATLANTICO             1\n",
      "BARRANQUILLA          1\n",
      "BOGOTA                1\n",
      "BOLIVAR               1\n",
      "CARTAGENA             1\n",
      "CALDAS                1\n",
      "CUNDINAMARCA          1\n",
      "CAQUETA               1\n",
      "CASANARE              1\n",
      "CAUCA                 1\n",
      "CESAR                 1\n",
      "CHOCO                 1\n",
      "CORDOBA               1\n",
      "VICHADA               1\n",
      "Name: DEPTOS Unnamed: 0_level_1, dtype: int64\n",
      "\n",
      "Columna: Fecha Envio\n",
      "XII-2007    36\n",
      "Name: Fecha Envio, dtype: int64\n"
     ]
    }
   ],
   "source": [
    "#  CONSISTENCIA HOJA 2007 \n",
    "print(\"\\n=== Consistencia Hoja 2007 ===\")\n",
    "for col in df2007.select_dtypes(include='object').columns:\n",
    "    print(f\"\\nColumna: {col}\")\n",
    "    print(df2007[col].value_counts(dropna=False))\n",
    "\n",
    "\n",
    "\n"
   ]
  },
  {
   "cell_type": "markdown",
   "id": "90c79f60",
   "metadata": {},
   "source": [
    "cada departamento aparece una sola vez, sin duplicados ni errores de escritura, y todos los registros tienen la misma fecha de envío (“XII-2007”), lo que confirma uniformidad temporal en los datos."
   ]
  },
  {
   "cell_type": "code",
   "execution_count": 62,
   "id": "fa6ba8a6",
   "metadata": {},
   "outputs": [
    {
     "name": "stdout",
     "output_type": "stream",
     "text": [
      "\n",
      " Consistencia Hoja 2008 \n",
      "\n",
      "Columna: Unnamed: 1_level_0 DEPARTAMENTOS\n",
      "AMAZONAS              1\n",
      "ANTIOQUIA             1\n",
      "LA GUAJIRA            1\n",
      "MAGDALENA             1\n",
      "SANTA MARTA           1\n",
      "META                  1\n",
      "NARIÑO                1\n",
      "NORTE DE SANTANDER    1\n",
      "PUTUMAYO              1\n",
      "QUINDIO               1\n",
      "RISARALDA             1\n",
      "SAN ANDRES            1\n",
      "SANTANDER             1\n",
      "SUCRE                 1\n",
      "TOLIMA                1\n",
      "VALLE                 1\n",
      "VAUPES                1\n",
      "HUILA                 1\n",
      "GUAVIARE              1\n",
      "GUAINIA               1\n",
      "BOYACA                1\n",
      "ARAUCA                1\n",
      "ATLANTICO             1\n",
      "BARRANQUILLA          1\n",
      "BOGOTA                1\n",
      "BOLIVAR               1\n",
      "CARTAGENA             1\n",
      "CALDAS                1\n",
      "CUNDINAMARCA          1\n",
      "CAQUETA               1\n",
      "CASANARE              1\n",
      "CAUCA                 1\n",
      "CESAR                 1\n",
      "CHOCO                 1\n",
      "CORDOBA               1\n",
      "VICHADA               1\n",
      "Name: Unnamed: 1_level_0 DEPARTAMENTOS, dtype: int64\n"
     ]
    }
   ],
   "source": [
    "#  CONSISTENCIA HOJA 2008 \n",
    "print(\"\\n Consistencia Hoja 2008 \")\n",
    "for col in df2008.select_dtypes(include='object').columns:\n",
    "    print(f\"\\nColumna: {col}\")\n",
    "    print(df2008[col].value_counts(dropna=False))\n",
    "\n"
   ]
  },
  {
   "cell_type": "markdown",
   "id": "272532d2",
   "metadata": {},
   "source": [
    "cada nombre de departamento aparece exactamente una vez, sin repeticiones ni inconsistencias evidentes en la escritura, lo que indica una buena calidad en los datos categóricos para esa variable."
   ]
  },
  {
   "cell_type": "code",
   "execution_count": null,
   "id": "7ae12aae",
   "metadata": {},
   "outputs": [
    {
     "name": "stdout",
     "output_type": "stream",
     "text": [
      "\n",
      " Consistencia Hoja 2009 \n",
      "\n",
      "Columna: DEPARTAMENTOS\n",
      "AMAZONAS              1\n",
      "ANTIOQUIA             1\n",
      "LA GUAJIRA            1\n",
      "MAGDALENA             1\n",
      "SANTA MARTA           1\n",
      "META                  1\n",
      "NARIÑO                1\n",
      "NORTE DE SANTANDER    1\n",
      "PUTUMAYO              1\n",
      "QUINDIÓ               1\n",
      "RISARALDA             1\n",
      "SAN ANDRÉS            1\n",
      "SANTANDER             1\n",
      "SUCRE                 1\n",
      "TOLIMA                1\n",
      "VALLE                 1\n",
      "VAUPÉS                1\n",
      "HUILA                 1\n",
      "GUAVIARE              1\n",
      "GUAINÍA               1\n",
      "BOYACÁ                1\n",
      "ARAUCA                1\n",
      "ATLANTICO             1\n",
      "BARRANQUILLA          1\n",
      "BOGOTÁ D.C.           1\n",
      "BOLÍVAR               1\n",
      "CARTAGENA             1\n",
      "CALDAS                1\n",
      "CUNDINAMARCA          1\n",
      "CAQUETÁ               1\n",
      "CASANARE              1\n",
      "CAUCA                 1\n",
      "CESAR                 1\n",
      "CHOCÓ                 1\n",
      "CÓRDOBA               1\n",
      "VICHADA               1\n",
      "Name: DEPARTAMENTOS, dtype: int64\n"
     ]
    }
   ],
   "source": [
    "#  CONSISTENCIA HOJA 2009 \n",
    "print(\"\\n Consistencia Hoja 2009 \")\n",
    "for col in df2009.select_dtypes(include='object').columns:\n",
    "    print(f\"\\nColumna: {col}\")\n",
    "    print(df2009[col].value_counts(dropna=False))\n",
    "\n"
   ]
  },
  {
   "cell_type": "markdown",
   "id": "06ec9dd7",
   "metadata": {},
   "source": [
    " todos los departamentos aparecen una única vez, indicando que no hay duplicados en esta variable. Sin embargo, se observan acentos ortográficos en varios nombres (por ejemplo, “QUINDIÓ”, “SAN ANDRÉS”, “CÓRDOBA”), lo que puede generar problemas de consistencia si se comparan con otras hojas sin normalizar la escritura."
   ]
  },
  {
   "cell_type": "code",
   "execution_count": 64,
   "id": "726014b2",
   "metadata": {},
   "outputs": [
    {
     "name": "stdout",
     "output_type": "stream",
     "text": [
      "\n",
      " Consistencia Hoja 2010 \n",
      "\n",
      "Columna: DEPARTAMENTOS\n",
      "NaN                   26\n",
      "HUILA                  1\n",
      "MAGDALENA              1\n",
      "SANTA MARTA            1\n",
      "META                   1\n",
      "NARIÑO                 1\n",
      "NORTE DE SANTANDER     1\n",
      "PUTUMAYO               1\n",
      "QUINDIÓ                1\n",
      "RISARALDA              1\n",
      "SAN ANDRÉS             1\n",
      "SANTANDER              1\n",
      "SUCRE                  1\n",
      "TOLIMA                 1\n",
      "VALLE                  1\n",
      "VAUPÉS                 1\n",
      "VICHADA                1\n",
      "LA GUAJIRA             1\n",
      "AMAZONAS               1\n",
      "ANTIOQUIA              1\n",
      "GUAINÍA                1\n",
      "ARAUCA                 1\n",
      "ATLANTICO              1\n",
      "BARRANQUILLA           1\n",
      "BOGOTÁ D.C.            1\n",
      "BOLÍVAR                1\n",
      "CARTAGENA              1\n",
      "BOYACÁ                 1\n",
      "CALDAS                 1\n",
      "CAQUETÁ                1\n",
      "CASANARE               1\n",
      "CAUCA                  1\n",
      "CESAR                  1\n",
      "CHOCÓ                  1\n",
      "CÓRDOBA                1\n",
      "CUNDINAMARCA           1\n",
      "GUAVIARE               1\n",
      "Name: DEPARTAMENTOS, dtype: int64\n",
      "\n",
      "Columna: Población\n",
      "Menor 1 año\n",
      "NaN           25\n",
      "2119           1\n",
      "15383          1\n",
      "18477          1\n",
      "9064           1\n",
      "18081          1\n",
      "32602          1\n",
      "25449          1\n",
      "7952           1\n",
      "9242           1\n",
      "1278           1\n",
      "103154         1\n",
      "33966          1\n",
      "16873          1\n",
      "25717          1\n",
      "72781          1\n",
      "1230           1\n",
      "1901           1\n",
      "24048          1\n",
      "22565          1\n",
      "2808           1\n",
      "1052           1\n",
      "6611           1\n",
      "22306          1\n",
      "20244          1\n",
      "119681         1\n",
      "24460          1\n",
      "17047          1\n",
      "22832          1\n",
      "16571          1\n",
      "10743          1\n",
      "7014           1\n",
      "25948          1\n",
      "22159          1\n",
      "13552          1\n",
      "35936          1\n",
      "46570          1\n",
      "Biologicos     1\n",
      "Name: Población\\nMenor 1 año, dtype: int64\n"
     ]
    }
   ],
   "source": [
    "#  CONSISTENCIA HOJA 2010 \n",
    "print(\"\\n Consistencia Hoja 2010 \")\n",
    "for col in df2010.select_dtypes(include='object').columns:\n",
    "    print(f\"\\nColumna: {col}\")\n",
    "    print(df2010[col].value_counts(dropna=False))"
   ]
  },
  {
   "cell_type": "markdown",
   "id": "af05d547",
   "metadata": {},
   "source": [
    "En la hoja 2010, la columna DEPARTAMENTOS presenta 26 valores faltantes, y en Población Menor 1 año hay entradas no válidas como “Biologicos”, lo que indica problemas de estructura en los datos que deben corregirse."
   ]
  },
  {
   "cell_type": "markdown",
   "id": "50eb11cb",
   "metadata": {},
   "source": [
    "Completitud"
   ]
  },
  {
   "cell_type": "code",
   "execution_count": 78,
   "id": "1782ac95",
   "metadata": {},
   "outputs": [
    {
     "name": "stdout",
     "output_type": "stream",
     "text": [
      " COMPLETITUD df2007\n",
      "\n",
      "Valores nulos por columna:\n",
      "DEPTOS Unnamed: 0_level_1    0\n",
      "Población Menor 1 año        0\n",
      "POLIO 3.Dosis                0\n",
      "POLIO %                      0\n",
      "DPT 3.Dosis                  0\n",
      "DPT %                        0\n",
      "BCG U.Dósis                  0\n",
      "BCG %                        0\n",
      "HEPATITIS B 3.Dosis          0\n",
      "HEPATITIS B %                0\n",
      "H.i.B. 3.Dosis               0\n",
      "H.i.B. %                     0\n",
      "Población De 1 año           0\n",
      "T.V. U.Dósis                 0\n",
      "T.V. %                       0\n",
      "FIEBRE AMARILLA U.Dósis      0\n",
      "FIEBRE AMARILLA %            0\n",
      "Fecha Envio                  0\n",
      "dtype: int64\n"
     ]
    }
   ],
   "source": [
    "#  COMPLETITUD df2007 \n",
    "print(\" COMPLETITUD df2007\")\n",
    "print(\"\\nValores nulos por columna:\")\n",
    "print(df2007.isnull().sum())\n",
    "\n",
    "\n"
   ]
  },
  {
   "cell_type": "markdown",
   "id": "7ffaa9d5",
   "metadata": {},
   "source": [
    "El análisis de completitud para la hoja 2007 muestra que no existen valores nulos (NaN) en ninguna de las columnas. Esto indica que la información está completa y no requiere imputación o limpieza por ausencia de datos."
   ]
  },
  {
   "cell_type": "code",
   "execution_count": 72,
   "id": "5381634f",
   "metadata": {},
   "outputs": [
    {
     "name": "stdout",
     "output_type": "stream",
     "text": [
      "\n",
      "COMPLETITUD df2008 \n",
      "\n",
      "Valores nulos por columna:\n",
      "Unnamed: 0_level_0 CODEP            0\n",
      "Unnamed: 1_level_0 DEPARTAMENTOS    0\n",
      "Población Menor 1 año               0\n",
      "POLIO 3.Dosis                       0\n",
      "POLIO %                             0\n",
      "DPT 3.Dosis                         0\n",
      "DPT %                               0\n",
      "BCG U.Dósis                         0\n",
      "BCG %                               0\n",
      "HEPATITIS B 3.Dosis                 0\n",
      "HEPATITIS B %                       0\n",
      "H.i.B. 3.Dosis                      0\n",
      "H.i.B. %                            0\n",
      "Población De 1 año                  0\n",
      "T.V. U.Dósis                        0\n",
      "T.V. %                              0\n",
      "FIEBRE AMARILLA U.Dósis             0\n",
      "FIEBRE AMARILLA %                   0\n",
      "dtype: int64\n"
     ]
    }
   ],
   "source": [
    "\n",
    "\n",
    "#  COMPLETITUD df2008 \n",
    "print(\"\\nCOMPLETITUD df2008 \")\n",
    "print(\"\\nValores nulos por columna:\")\n",
    "print(df2008.isnull().sum())\n",
    "\n",
    "\n"
   ]
  },
  {
   "cell_type": "markdown",
   "id": "7a99bfb0",
   "metadata": {},
   "source": [
    "El análisis de completitud para la hoja 2008 muestra que no existen valores nulos (NaN) en ninguna de las columnas. Esto indica que la información está completa y no requiere imputación o limpieza por ausencia de datos."
   ]
  },
  {
   "cell_type": "code",
   "execution_count": null,
   "id": "d7fd7e8b",
   "metadata": {},
   "outputs": [
    {
     "name": "stdout",
     "output_type": "stream",
     "text": [
      "\n",
      " COMPLETITUD df2009 \n",
      "\n",
      "Valores nulos por columna:\n",
      "CODEP                                                                                                                     0\n",
      "DEPARTAMENTOS                                                                                                             0\n",
      "Población\\nMenor 1 año                                                                                                    0\n",
      "VOP <DE1 AÑO 3ras + VIP <1AÑO 3as Dosis                                                                                   0\n",
      "% VOP 3ras                                                                                                                0\n",
      "DPT MENOR DE UN AÑO 3ras. Dosis                                                                                           0\n",
      "% DPT 3ras                                                                                                                0\n",
      "BCG RECIEN NACIDO (HASTA 28 DÍAS) + MENOR UN AÑO (29 DÍAS A 11 MESES 29 DIAS)\\nDosis Unica                                0\n",
      "% BCG                                                                                                                     0\n",
      "HB MENOR DE UN AÑO + (HB < 1 AÑO (ÚNICAMENTE CUANDO NO SE PUEDE COLOCAR PENTAVALENTE POR REACCION A LA DPT) 3ras Dosis    0\n",
      "% Hepatitis B                                                                                                             0\n",
      "Hib MENOR DE UN AÑO\\n3ra.Dosis                                                                                            0\n",
      "% Hib                                                                                                                     0\n",
      "Población \\nDe 1 año                                                                                                      0\n",
      "SRP (T.V.) DE UN AÑO\\nU.Dósis                                                                                             0\n",
      "%TV                                                                                                                       0\n",
      "F.A. 1 AÑO\\nU. Dósis                                                                                                      0\n",
      "%F.A.                                                                                                                     0\n",
      "ROTAVIRUS DE 2 A 7 MESES 29 DIAS\\n2da Dosis                                                                               0\n",
      "% Rota 2da Dosis                                                                                                          0\n",
      "Neumo de (12 meses)\\n3ra Dosis                                                                                            0\n",
      "% Neumo de (12 meses)\\n3ra dosis                                                                                          0\n",
      "Neumo de (12-23 meses) 2da Dosis                                                                                          0\n",
      "% Neumo de (12-23 meses)                                                                                                  0\n",
      "Neumo de (24- 35 Meses) Dosis Unica                                                                                       0\n",
      "% Neumo de (24- 35 Meses)                                                                                                 0\n",
      "Unnamed: 26                                                                                                               0\n",
      "Unnamed: 27                                                                                                               0\n",
      "dtype: int64\n"
     ]
    }
   ],
   "source": [
    "#  COMPLETITUD df2009 \n",
    "print(\"\\n COMPLETITUD df2009 \")\n",
    "print(\"\\nValores nulos por columna:\")\n",
    "print(df2009.isnull().sum())"
   ]
  },
  {
   "cell_type": "markdown",
   "id": "2191da5e",
   "metadata": {},
   "source": [
    "La hoja 2009 no presenta valores nulos en ninguna de sus columnas, lo cual indica que los datos están completos. Sin embargo."
   ]
  },
  {
   "cell_type": "code",
   "execution_count": 77,
   "id": "a3e108a8",
   "metadata": {},
   "outputs": [
    {
     "name": "stdout",
     "output_type": "stream",
     "text": [
      "\n",
      " COMPLETITUD df2010 \n",
      "\n",
      "Valores nulos por columna:\n",
      "CODEP                                                                                                                     26\n",
      "DEPARTAMENTOS                                                                                                             26\n",
      "Población\\nMenor 1 año                                                                                                    25\n",
      "VOP <DE1 AÑO 3ras + VIP <1AÑO 3as Dosis                                                                                   26\n",
      "% VOP 3ras                                                                                                                26\n",
      "DPT MENOR DE UN AÑO 3ras. Dosis                                                                                           26\n",
      "% DPT 3ras                                                                                                                26\n",
      "BCG RECIEN NACIDO (HASTA 28 DÍAS) + MENOR UN AÑO (29 DÍAS A 11 MESES 29 DIAS)\\nDosis Unica                                26\n",
      "% BCG                                                                                                                     26\n",
      "HB MENOR DE UN AÑO + (HB < 1 AÑO (ÚNICAMENTE CUANDO NO SE PUEDE COLOCAR PENTAVALENTE POR REACCION A LA DPT) 3ras Dosis    26\n",
      "% Hepatitis B                                                                                                             26\n",
      "Hib MENOR DE UN AÑO\\n3ra.Dosis                                                                                            26\n",
      "% Hib                                                                                                                     26\n",
      "ROTAVIRUS DE 2 A 7 MESES 29 DIAS\\n2da Dosis                                                                               26\n",
      "% Rota 2da Dosis                                                                                                          26\n",
      "Población \\nDe 1 año                                                                                                      26\n",
      "SRP (T.V.) DE UN AÑO\\nU.Dósis                                                                                             26\n",
      "%TV                                                                                                                       26\n",
      "F.A. 1 AÑO\\nU. Dósis                                                                                                      26\n",
      "%F.A.                                                                                                                     26\n",
      "Neumo de (11 Meses 29 Dias)\\n2da Dosis                                                                                    26\n",
      "% Neumo de (11 Meses 29 Dias)\\n2ra dosis                                                                                  26\n",
      "Neumo de (12 meses)\\n3ra Dosis                                                                                            26\n",
      "% Neumo de (12 meses)\\n3ra dosis                                                                                          26\n",
      "Neumo de (12-23 meses) 2da Dosis                                                                                          26\n",
      "Neumo de (24- 35 Meses) Dosis Unica                                                                                       26\n",
      "VOP al año de la 3ra Dosis\\n1er. Ref.                                                                                     26\n",
      "% VOP\\n1er Ref.                                                                                                           26\n",
      "DPT Al año de la 3ra Dosis\\n1er. Ref.                                                                                     26\n",
      "% DPT\\n1er Ref.                                                                                                           26\n",
      "VOP 5 AÑOS\\n2do. Ref.                                                                                                     26\n",
      "% VOP\\n2do Ref.                                                                                                           26\n",
      "DPT 5 AÑOS\\n2do. Ref.                                                                                                     26\n",
      "% DPT\\n2do Ref.                                                                                                           26\n",
      "SRP (T.V.) 5 AÑOS Ref.                                                                                                    26\n",
      "% T.V.\\nRef. 5 AÑOS                                                                                                       26\n",
      "FLU DE 50 Y MAS AÑOS ÚNICA                                                                                                26\n",
      "Unnamed: 37                                                                                                               26\n",
      "Unnamed: 38                                                                                                               62\n",
      "Unnamed: 39                                                                                                               25\n",
      "dtype: int64\n"
     ]
    }
   ],
   "source": [
    "\n",
    "# COMPLETITUD df2010 \n",
    "print(\"\\n COMPLETITUD df2010 \")\n",
    "print(\"\\nValores nulos por columna:\")\n",
    "print(df2010.isnull().sum())\n"
   ]
  },
  {
   "cell_type": "markdown",
   "id": "d5c09438",
   "metadata": {},
   "source": [
    "En este caso, muchas de las variables presentan problemas de completitud. Esto debe tenerse en cuenta más adelante para aplicar técnicas adecuadas de imputación de datos, procurando no alterar la información suministrada."
   ]
  },
  {
   "cell_type": "markdown",
   "id": "3f01962c",
   "metadata": {},
   "source": [
    "Conclusión\n",
    "En conclusión, la mayoría de los datos aportan de manera significativa al modelo de negocio. Por ello, al momento de descartar columnas en etapas posteriores del proyecto, sería adecuado contar con la orientación de la estudiante de medicina para identificar cuáles variables son más relevantes en cada parte del proceso. Si bien algunas variables presentan inconsistencias, estas son mínimas en comparación con el volumen de datos representado. No obstante, será necesario realizar correcciones adicionales una vez se definan las variables que serán incluidas en el modelo."
   ]
  }
 ],
 "metadata": {
  "kernelspec": {
   "display_name": "Python 3",
   "language": "python",
   "name": "python3"
  },
  "language_info": {
   "codemirror_mode": {
    "name": "ipython",
    "version": 3
   },
   "file_extension": ".py",
   "mimetype": "text/x-python",
   "name": "python",
   "nbconvert_exporter": "python",
   "pygments_lexer": "ipython3",
   "version": "3.9.21"
  }
 },
 "nbformat": 4,
 "nbformat_minor": 5
}
